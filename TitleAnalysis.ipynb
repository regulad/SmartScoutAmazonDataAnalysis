{
 "cells": [
  {
   "cell_type": "markdown",
   "source": [
    "# Title Analysis"
   ],
   "metadata": {
    "collapsed": false
   }
  },
  {
   "cell_type": "markdown",
   "source": [
    "We will analyze the relationship between the titles and the sales of a product using a NLP model. We will also find the best words to use in the title to increase the sales of a product by finding the words with the heighest correlation with the sales."
   ],
   "metadata": {
    "collapsed": false
   }
  },
  {
   "cell_type": "code",
   "execution_count": 1,
   "outputs": [],
   "source": [
    "# Importing the libraries\n",
    "import numpy as np\n",
    "import matplotlib.pyplot as plt\n",
    "import pandas as pd\n",
    "import seaborn as sns\n",
    "import re\n",
    "import nltk\n",
    "from nltk.corpus import stopwords\n",
    "from nltk.stem.porter import PorterStemmer\n",
    "from sklearn.feature_extraction.text import CountVectorizer"
   ],
   "metadata": {
    "collapsed": false,
    "ExecuteTime": {
     "end_time": "2023-07-02T18:25:10.593788400Z",
     "start_time": "2023-07-02T18:25:09.992368600Z"
    }
   }
  },
  {
   "cell_type": "code",
   "execution_count": 2,
   "outputs": [
    {
     "data": {
      "text/plain": "                                                  title  monthlyUnitsSold\n0     Animal Adventure | Sqoosh2Poof Giant, Cuddly, ...               124\n1     DJI Mini 3 Pro (DJI RC) & Fly More Kit Plus – ...              3046\n2     Classic Handheld Game Console, Wireless Classi...             15983\n3     Step2 Rain Showers Splash Pond Water Table | K...             28285\n4     Drone with 1080P Dual HD Camera - 2023 Upgradd...              5383\n...                                                 ...               ...\n9995  Dream On Me Coast Rider Umbrella Stroller, Lig...               277\n9996  Dream On Me Coast Rider Umbrella Stroller, Lig...               277\n9997  Baby Einstein Star Bright Symphony Plush Music...              2197\n9998  32 Pack Sunglasses Bulk with UV Protection, 16...              1002\n9999  So You Think You Know The Bible - A Fun Bible ...               930\n\n[10000 rows x 2 columns]",
      "text/html": "<div>\n<style scoped>\n    .dataframe tbody tr th:only-of-type {\n        vertical-align: middle;\n    }\n\n    .dataframe tbody tr th {\n        vertical-align: top;\n    }\n\n    .dataframe thead th {\n        text-align: right;\n    }\n</style>\n<table border=\"1\" class=\"dataframe\">\n  <thead>\n    <tr style=\"text-align: right;\">\n      <th></th>\n      <th>title</th>\n      <th>monthlyUnitsSold</th>\n    </tr>\n  </thead>\n  <tbody>\n    <tr>\n      <th>0</th>\n      <td>Animal Adventure | Sqoosh2Poof Giant, Cuddly, ...</td>\n      <td>124</td>\n    </tr>\n    <tr>\n      <th>1</th>\n      <td>DJI Mini 3 Pro (DJI RC) &amp; Fly More Kit Plus – ...</td>\n      <td>3046</td>\n    </tr>\n    <tr>\n      <th>2</th>\n      <td>Classic Handheld Game Console, Wireless Classi...</td>\n      <td>15983</td>\n    </tr>\n    <tr>\n      <th>3</th>\n      <td>Step2 Rain Showers Splash Pond Water Table | K...</td>\n      <td>28285</td>\n    </tr>\n    <tr>\n      <th>4</th>\n      <td>Drone with 1080P Dual HD Camera - 2023 Upgradd...</td>\n      <td>5383</td>\n    </tr>\n    <tr>\n      <th>...</th>\n      <td>...</td>\n      <td>...</td>\n    </tr>\n    <tr>\n      <th>9995</th>\n      <td>Dream On Me Coast Rider Umbrella Stroller, Lig...</td>\n      <td>277</td>\n    </tr>\n    <tr>\n      <th>9996</th>\n      <td>Dream On Me Coast Rider Umbrella Stroller, Lig...</td>\n      <td>277</td>\n    </tr>\n    <tr>\n      <th>9997</th>\n      <td>Baby Einstein Star Bright Symphony Plush Music...</td>\n      <td>2197</td>\n    </tr>\n    <tr>\n      <th>9998</th>\n      <td>32 Pack Sunglasses Bulk with UV Protection, 16...</td>\n      <td>1002</td>\n    </tr>\n    <tr>\n      <th>9999</th>\n      <td>So You Think You Know The Bible - A Fun Bible ...</td>\n      <td>930</td>\n    </tr>\n  </tbody>\n</table>\n<p>10000 rows × 2 columns</p>\n</div>"
     },
     "execution_count": 2,
     "metadata": {},
     "output_type": "execute_result"
    }
   ],
   "source": [
    "# Importing the dataset\n",
    "df = pd.read_csv(r\"D:\\1-Toys and Games.csv\", usecols=['title', 'monthlyUnitsSold'], nrows=10000)\n",
    "df"
   ],
   "metadata": {
    "collapsed": false,
    "ExecuteTime": {
     "end_time": "2023-07-02T18:25:18.414767400Z",
     "start_time": "2023-07-02T18:25:10.594785500Z"
    }
   }
  },
  {
   "cell_type": "code",
   "execution_count": 3,
   "outputs": [],
   "source": [
    "# Cleaning the texts\n",
    "corpus = []\n",
    "\n",
    "# Removing all the special characters\n",
    "for i in range(0, len(df)):\n",
    "    review = re.sub('[^a-zA-Z]', ' ', df['title'][i])\n",
    "\n",
    "    # Converting all the letters to lowercase\n",
    "    review = review.lower()\n",
    "\n",
    "    # Splitting the words\n",
    "    review = review.split()\n",
    "\n",
    "    # Removing the stopwords\n",
    "    ps = PorterStemmer()\n",
    "    all_stopwords = stopwords.words('english')\n",
    "    all_stopwords.remove('not')\n",
    "    review = [ps.stem(word) for word in review if not word in set(all_stopwords)]\n",
    "\n",
    "    # Joining the words\n",
    "    review = ' '.join(review)\n",
    "    corpus.append(review)"
   ],
   "metadata": {
    "collapsed": false,
    "ExecuteTime": {
     "end_time": "2023-07-02T18:25:24.754898900Z",
     "start_time": "2023-07-02T18:25:18.415738300Z"
    }
   }
  },
  {
   "cell_type": "code",
   "execution_count": 4,
   "outputs": [],
   "source": [
    "# Creating the Bag of Words model\n",
    "cv = CountVectorizer(max_features=1500)\n",
    "X = cv.fit_transform(corpus).toarray()\n",
    "y = df.iloc[:, -1].values"
   ],
   "metadata": {
    "collapsed": false,
    "ExecuteTime": {
     "end_time": "2023-07-02T18:25:24.928613800Z",
     "start_time": "2023-07-02T18:25:24.769859Z"
    }
   }
  },
  {
   "cell_type": "code",
   "execution_count": 5,
   "outputs": [],
   "source": [
    "# Splitting the dataset into the Training set and Test set\n",
    "from sklearn.model_selection import train_test_split\n",
    "X_train, X_test, y_train, y_test = \\\n",
    "    train_test_split(X, y, test_size=0.2, random_state=0)"
   ],
   "metadata": {
    "collapsed": false,
    "ExecuteTime": {
     "end_time": "2023-07-02T18:25:24.974497500Z",
     "start_time": "2023-07-02T18:25:24.929611100Z"
    }
   }
  },
  {
   "cell_type": "raw",
   "source": [
    "# Training the Random Forest Regression model on the Training set\n",
    "from sklearn.ensemble import RandomForestRegressor\n",
    "regressor = RandomForestRegressor(n_estimators=10, random_state=0)\n",
    "regressor.fit(X_train, y_train)"
   ],
   "metadata": {
    "collapsed": false
   }
  },
  {
   "cell_type": "code",
   "execution_count": 9,
   "outputs": [
    {
     "data": {
      "text/plain": "LinearSVC(max_iter=10000)"
     },
     "execution_count": 9,
     "metadata": {},
     "output_type": "execute_result"
    }
   ],
   "source": [
    "# Training with a LinearSVC\n",
    "from sklearn.svm import LinearSVC\n",
    "linear_svc = LinearSVC(max_iter=10000)\n",
    "linear_svc.fit(X_train, y_train)"
   ],
   "metadata": {
    "collapsed": false,
    "ExecuteTime": {
     "end_time": "2023-07-02T18:32:30.543112800Z",
     "start_time": "2023-07-02T18:32:06.380815400Z"
    }
   }
  },
  {
   "cell_type": "raw",
   "source": [
    "# Training with a Neural Network\n",
    "from sklearn.neural_network import MLPRegressor\n",
    "mlp = MLPRegressor(random_state=0)\n",
    "mlp.fit(X_train, y_train)"
   ],
   "metadata": {
    "collapsed": false
   }
  },
  {
   "cell_type": "raw",
   "source": [
    "# Visualising the Random Forest Regression results (actual vs predicted sales)\n",
    "y_pred = regressor.predict(X_test)\n",
    "plt.scatter(y_test, y_pred, color='red')\n",
    "plt.title('Random Forest Regression')\n",
    "plt.xlabel('Actual Sales')\n",
    "plt.ylabel('Predicted Sales')\n",
    "plt.show()"
   ],
   "metadata": {
    "collapsed": false
   }
  },
  {
   "cell_type": "code",
   "execution_count": 10,
   "outputs": [
    {
     "data": {
      "text/plain": "<Figure size 432x288 with 1 Axes>",
      "image/png": "[encoded data removed]"
     },
     "metadata": {},
     "output_type": "display_data"
    }
   ],
   "source": [
    "# Visualizing the LinearSVC results (actual vs predicted sales)\n",
    "y_pred = linear_svc.predict(X_test)\n",
    "plt.scatter(y_test, y_pred, color='red')\n",
    "plt.title('LinearSVC')\n",
    "plt.xlabel('Actual Sales')\n",
    "plt.ylabel('Predicted Sales')\n",
    "plt.show()"
   ],
   "metadata": {
    "collapsed": false,
    "ExecuteTime": {
     "end_time": "2023-07-02T18:32:52.752861100Z",
     "start_time": "2023-07-02T18:32:52.288103Z"
    }
   }
  },
  {
   "cell_type": "raw",
   "source": [
    "# Visualizing the MLPRegressor results (actual vs predicted sales)\n",
    "y_pred = mlp.predict(X_test)\n",
    "plt.scatter(y_test, y_pred, color='red')\n",
    "plt.title('MLPRegressor')\n",
    "plt.xlabel('Actual Sales')\n",
    "plt.ylabel('Predicted Sales')\n",
    "plt.show()"
   ],
   "metadata": {
    "collapsed": false
   }
  },
  {
   "cell_type": "markdown",
   "source": [
    "Linear SVC seems to be the most accurate model. We will use it to find the best words to use in the title to increase the sales of a product. But first, we must find the optimal hyperparameters."
   ],
   "metadata": {
    "collapsed": false
   }
  },
  {
   "cell_type": "code",
   "execution_count": 11,
   "outputs": [
    {
     "name": "stderr",
     "output_type": "stream",
     "text": [
      "C:\\Users\\shtey\\anaconda3\\lib\\site-packages\\sklearn\\model_selection\\_split.py:676: UserWarning: The least populated class in y has only 1 members, which is less than n_splits=10.\n",
      "  warnings.warn(\n",
      "C:\\Users\\shtey\\anaconda3\\lib\\site-packages\\sklearn\\model_selection\\_validation.py:372: FitFailedWarning: \n",
      "100 fits failed out of a total of 200.\n",
      "The score on these train-test partitions for these parameters will be set to nan.\n",
      "If these failures are not expected, you can try to debug them by setting error_score='raise'.\n",
      "\n",
      "Below are more details about the failures:\n",
      "--------------------------------------------------------------------------------\n",
      "50 fits failed with the following error:\n",
      "Traceback (most recent call last):\n",
      "  File \"C:\\Users\\shtey\\anaconda3\\lib\\site-packages\\sklearn\\model_selection\\_validation.py\", line 680, in _fit_and_score\n",
      "    estimator.fit(X_train, y_train, **fit_params)\n",
      "  File \"C:\\Users\\shtey\\anaconda3\\lib\\site-packages\\sklearn\\svm\\_classes.py\", line 257, in fit\n",
      "    self.coef_, self.intercept_, self.n_iter_ = _fit_liblinear(\n",
      "  File \"C:\\Users\\shtey\\anaconda3\\lib\\site-packages\\sklearn\\svm\\_base.py\", line 1185, in _fit_liblinear\n",
      "    solver_type = _get_liblinear_solver_type(multi_class, penalty, loss, dual)\n",
      "  File \"C:\\Users\\shtey\\anaconda3\\lib\\site-packages\\sklearn\\svm\\_base.py\", line 1024, in _get_liblinear_solver_type\n",
      "    raise ValueError(\n",
      "ValueError: Unsupported set of arguments: The combination of penalty='l1' and loss='hinge' is not supported, Parameters: penalty='l1', loss='hinge', dual=True\n",
      "\n",
      "--------------------------------------------------------------------------------\n",
      "50 fits failed with the following error:\n",
      "Traceback (most recent call last):\n",
      "  File \"C:\\Users\\shtey\\anaconda3\\lib\\site-packages\\sklearn\\model_selection\\_validation.py\", line 680, in _fit_and_score\n",
      "    estimator.fit(X_train, y_train, **fit_params)\n",
      "  File \"C:\\Users\\shtey\\anaconda3\\lib\\site-packages\\sklearn\\svm\\_classes.py\", line 257, in fit\n",
      "    self.coef_, self.intercept_, self.n_iter_ = _fit_liblinear(\n",
      "  File \"C:\\Users\\shtey\\anaconda3\\lib\\site-packages\\sklearn\\svm\\_base.py\", line 1185, in _fit_liblinear\n",
      "    solver_type = _get_liblinear_solver_type(multi_class, penalty, loss, dual)\n",
      "  File \"C:\\Users\\shtey\\anaconda3\\lib\\site-packages\\sklearn\\svm\\_base.py\", line 1024, in _get_liblinear_solver_type\n",
      "    raise ValueError(\n",
      "ValueError: Unsupported set of arguments: The combination of penalty='l1' and loss='squared_hinge' are not supported when dual=True, Parameters: penalty='l1', loss='squared_hinge', dual=True\n",
      "\n",
      "  warnings.warn(some_fits_failed_message, FitFailedWarning)\n",
      "C:\\Users\\shtey\\anaconda3\\lib\\site-packages\\sklearn\\model_selection\\_search.py:969: UserWarning: One or more of the test scores are non-finite: [            nan -6358851.841                nan -6303502.6535\n",
      "             nan -6780956.523625             nan -6925198.5925\n",
      "             nan -7330178.942625             nan -7289514.83925\n",
      "             nan -7651389.010375             nan -7474673.14425\n",
      "             nan -7676043.691125             nan -7514345.055125]\n",
      "  warnings.warn(\n"
     ]
    },
    {
     "name": "stdout",
     "output_type": "stream",
     "text": [
      "Best accuracy:  -6303502.6535\n",
      "Best parameters:  {'C': 0.1, 'loss': 'squared_hinge', 'penalty': 'l2'}\n"
     ]
    }
   ],
   "source": [
    "# Finding the optimal hyperparameters\n",
    "from sklearn.model_selection import GridSearchCV\n",
    "parameters = [{'C': [0.1, 1, 10, 100, 1000], 'loss': ['hinge', 'squared_hinge'], 'penalty': ['l1', 'l2']}]\n",
    "grid_search = GridSearchCV(estimator=linear_svc,\n",
    "                           param_grid=parameters,\n",
    "                           scoring='neg_mean_squared_error',\n",
    "                           cv=10,\n",
    "                           n_jobs=-1)\n",
    "grid_search = grid_search.fit(X_train, y_train)\n",
    "best_accuracy = grid_search.best_score_\n",
    "best_parameters = grid_search.best_params_\n",
    "\n",
    "print('Best accuracy: ', best_accuracy)\n",
    "print('Best parameters: ', best_parameters)"
   ],
   "metadata": {
    "collapsed": false,
    "ExecuteTime": {
     "end_time": "2023-07-02T18:46:08.665539700Z",
     "start_time": "2023-07-02T18:33:08.577379200Z"
    }
   }
  },
  {
   "cell_type": "code",
   "execution_count": 12,
   "outputs": [
    {
     "data": {
      "text/plain": "LinearSVC(C=0.1, max_iter=10000)"
     },
     "execution_count": 12,
     "metadata": {},
     "output_type": "execute_result"
    }
   ],
   "source": [
    "# Training with the optimal hyperparameters\n",
    "from sklearn.svm import LinearSVC\n",
    "linear_svc = LinearSVC(C=0.1, loss='squared_hinge', penalty='l2', max_iter=10000)\n",
    "linear_svc.fit(X_train, y_train)"
   ],
   "metadata": {
    "collapsed": false,
    "ExecuteTime": {
     "end_time": "2023-07-02T23:50:50.129538100Z",
     "start_time": "2023-07-02T23:50:34.272199100Z"
    }
   }
  },
  {
   "cell_type": "code",
   "execution_count": 13,
   "outputs": [
    {
     "data": {
      "text/plain": "<Figure size 432x288 with 1 Axes>",
      "image/png": "[encoded data removed]"
     },
     "metadata": {},
     "output_type": "display_data"
    }
   ],
   "source": [
    "# Visualizing the LinearSVC results (actual vs predicted sales)\n",
    "y_pred = linear_svc.predict(X_test)\n",
    "plt.scatter(y_test, y_pred, color='red')\n",
    "plt.title('LinearSVC')\n",
    "plt.xlabel('Actual Sales')\n",
    "plt.ylabel('Predicted Sales')\n",
    "plt.show()"
   ],
   "metadata": {
    "collapsed": false,
    "ExecuteTime": {
     "end_time": "2023-07-02T23:50:50.473050400Z",
     "start_time": "2023-07-02T23:50:50.131533400Z"
    }
   }
  },
  {
   "cell_type": "raw",
   "source": [],
   "metadata": {
    "collapsed": false
   }
  }
 ],
 "metadata": {
  "kernelspec": {
   "display_name": "Python 3",
   "language": "python",
   "name": "python3"
  },
  "language_info": {
   "codemirror_mode": {
    "name": "ipython",
    "version": 2
   },
   "file_extension": ".py",
   "mimetype": "text/x-python",
   "name": "python",
   "nbconvert_exporter": "python",
   "pygments_lexer": "ipython2",
   "version": "2.7.6"
  }
 },
 "nbformat": 4,
 "nbformat_minor": 0
}
