{
 "cells": [
  {
   "cell_type": "markdown",
   "source": [
    "# Amazon Product Analysis from SmartScout"
   ],
   "metadata": {
    "collapsed": false
   }
  },
  {
   "cell_type": "markdown",
   "source": [
    "In this project, we want to transform large csvs of data about Amazon, and create a multimodal artificial intelligence that will give the user a prediction of how successful the product will be. We want to use a K-Nearest-Neighbors Classifier to score the attractiveness of the product's title image given the surrounding images' attractiveness, given by their sales. We want to use a Natural Language Processing Model to score how well the product's title and description are (So, there will be two NLP models). Finally, we want to create a neural network that takes in those scores as inputs, as well as other features of the product, such as price, number of sellers, etc. The output of the neural network should predict which subsection of sales the product will fall into, which we will standardize into a score for the user between 0 and 100."
   ],
   "metadata": {
    "collapsed": false
   }
  },
  {
   "cell_type": "markdown",
   "source": [
    "## Import Data"
   ],
   "metadata": {
    "collapsed": false
   }
  },
  {
   "cell_type": "code",
   "execution_count": 3,
   "outputs": [],
   "source": [
    "import pandas as pd"
   ],
   "metadata": {
    "collapsed": false,
    "ExecuteTime": {
     "end_time": "2023-07-03T00:48:20.786442600Z",
     "start_time": "2023-07-03T00:48:20.767493600Z"
    }
   }
  },
  {
   "cell_type": "code",
   "execution_count": 4,
   "outputs": [
    {
     "data": {
      "text/plain": "Index(['brandId', 'subcategoryId', 'imageUrl', 'asin', 'title', 'brandName',\n       'categoryId', 'subcategory.subcategoryName', 'rank', 'amazonIsr',\n       'numberOfSellers', 'isVariation', 'monthlyRevenueEstimate', 'ttm',\n       'monthlyUnitsSold', 'listedSince', 'reviewCount', 'reviewRating',\n       'numberFbaSellers', 'buyBoxPrice', 'averageBuyBoxPrice', 'buyBoxEquity',\n       'revenueEquity', 'marginEquity', 'outOfStockNow', 'productPageScore',\n       'manufacturer', 'upc', 'partNumber', 'model', 'numberOfItems',\n       'totalRatings', 'momGrowth', 'momGrowth12', 'note'],\n      dtype='object')"
     },
     "execution_count": 4,
     "metadata": {},
     "output_type": "execute_result"
    }
   ],
   "source": [
    "# Get Path from local 'Data' Folder\n",
    "path = r\"D:\\1-Toys and Games.csv\"\n",
    "\n",
    "# Load Data.\n",
    "df = pd.read_csv(path, nrows=1)\n",
    "\n",
    "# Show Data\n",
    "df.columns"
   ],
   "metadata": {
    "collapsed": false,
    "ExecuteTime": {
     "end_time": "2023-07-03T00:48:21.001427300Z",
     "start_time": "2023-07-03T00:48:20.943256Z"
    }
   }
  },
  {
   "cell_type": "markdown",
   "source": [
    "## Data Cleaning"
   ],
   "metadata": {
    "collapsed": false
   }
  },
  {
   "cell_type": "code",
   "execution_count": 45,
   "outputs": [
    {
     "name": "stdout",
     "output_type": "stream",
     "text": [
      "length of data before cleaning: 15000\n"
     ]
    }
   ],
   "source": [
    "# print length of data before cleaning\n",
    "print('length of data before cleaning:', len(df))"
   ],
   "metadata": {
    "collapsed": false,
    "ExecuteTime": {
     "end_time": "2023-07-02T15:48:25.301788100Z",
     "start_time": "2023-07-02T15:48:25.273863200Z"
    }
   }
  },
  {
   "cell_type": "code",
   "execution_count": 46,
   "outputs": [],
   "source": [
    "# Drop Unnecessary Columns\n",
    "df.drop(columns=['brandId', 'subcategoryId', 'categoryId', 'rank', 'amazonIsr', 'monthlyRevenueEstimate', 'productPageScore', 'averageBuyBoxPrice', 'ttm', 'listedSince', 'reviewCount', 'reviewRating', 'numberFbaSellers', 'buyBoxEquity', 'revenueEquity', 'marginEquity', 'outOfStockNow', 'upc', 'partNumber', 'model', 'totalRatings', 'momGrowth', 'momGrowth12', 'note', 'brandName', 'manufacturer'], inplace=True)"
   ],
   "metadata": {
    "collapsed": false,
    "ExecuteTime": {
     "end_time": "2023-07-02T15:48:25.332778900Z",
     "start_time": "2023-07-02T15:48:25.287826600Z"
    }
   }
  },
  {
   "cell_type": "code",
   "execution_count": 47,
   "outputs": [],
   "source": [
    "# Drop Rows with Null Values in the following columns: 'imageUrl', 'buyBoxPrice', 'monthlyUnitsSold', 'subcategory.subcategoryName'\n",
    "df.dropna(subset=['imageUrl', 'asin', 'title', 'buyBoxPrice', 'monthlyUnitsSold'], inplace=True)"
   ],
   "metadata": {
    "collapsed": false,
    "ExecuteTime": {
     "end_time": "2023-07-02T15:48:25.396171400Z",
     "start_time": "2023-07-02T15:48:25.304780400Z"
    }
   }
  },
  {
   "cell_type": "code",
   "execution_count": 48,
   "outputs": [],
   "source": [
    "# Rename Columns\n",
    "df.rename(columns={'subcategory.subcategoryName':'subcategory', 'monthlyUnitsSold':'sales', 'buyBoxPrice':'price'}, inplace=True)"
   ],
   "metadata": {
    "collapsed": false,
    "ExecuteTime": {
     "end_time": "2023-07-02T15:48:25.396171400Z",
     "start_time": "2023-07-02T15:48:25.336330900Z"
    }
   }
  },
  {
   "cell_type": "code",
   "execution_count": 49,
   "outputs": [],
   "source": [
    "# Drop Rows with 'monthlyUnitsSold' = 0\n",
    "df = df[df['sales'] != 0]"
   ],
   "metadata": {
    "collapsed": false,
    "ExecuteTime": {
     "end_time": "2023-07-02T15:48:25.396171400Z",
     "start_time": "2023-07-02T15:48:25.354282100Z"
    }
   }
  },
  {
   "cell_type": "markdown",
   "source": [
    "Some of the image data is not in the desired shape. We will resize the image data to a target size using the function below."
   ],
   "metadata": {
    "collapsed": false
   }
  },
  {
   "cell_type": "code",
   "execution_count": 50,
   "outputs": [
    {
     "name": "stdout",
     "output_type": "stream",
     "text": [
      "length of data after cleaning: 14993\n"
     ]
    }
   ],
   "source": [
    "# Print length of data after cleaning\n",
    "print('length of data after cleaning:', len(df))"
   ],
   "metadata": {
    "collapsed": false,
    "ExecuteTime": {
     "end_time": "2023-07-02T15:48:25.397172Z",
     "start_time": "2023-07-02T15:48:25.367248Z"
    }
   }
  },
  {
   "cell_type": "markdown",
   "source": [
    "# Data Preprocessing"
   ],
   "metadata": {
    "collapsed": false
   }
  },
  {
   "cell_type": "code",
   "execution_count": 51,
   "outputs": [],
   "source": [
    "# Given that a sales value has n digits and n < 4, round the sales value to the nearest 10**(n-2), else round the sales value to the nearest thousand\n",
    "def round_sales(sales: int):\n",
    "    # Get the number of digits in the sales value\n",
    "    n = len(str(sales))\n",
    "    # If the number of digits is less than 4, round the sales value to the nearest 10**(n-2)\n",
    "    if n < 4:\n",
    "        sales = round(sales, -2)\n",
    "    # Else, round the sales value to the nearest thousand\n",
    "    else:\n",
    "        sales = round(sales, -3)\n",
    "    # Return the rounded sales value\n",
    "    return sales\n",
    "\n",
    "df['salesRounded'] = df['sales'].apply(round_sales)"
   ],
   "metadata": {
    "collapsed": false,
    "ExecuteTime": {
     "end_time": "2023-07-02T15:48:25.418111800Z",
     "start_time": "2023-07-02T15:48:25.383204700Z"
    }
   }
  },
  {
   "cell_type": "code",
   "execution_count": 52,
   "outputs": [],
   "source": [
    "# Convert isVariation from boolean to int\n",
    "df['isVariation'] = df['isVariation'].astype(int)"
   ],
   "metadata": {
    "collapsed": false,
    "ExecuteTime": {
     "end_time": "2023-07-02T15:48:25.457007500Z",
     "start_time": "2023-07-02T15:48:25.415145600Z"
    }
   }
  },
  {
   "cell_type": "code",
   "execution_count": 53,
   "outputs": [],
   "source": [
    "# Impute missing values for the following columns: isVariation, numberOfSellers, and numberOfItems, based on the means of the columns\n",
    "df['isVariation'].fillna(df['isVariation'].mean(), inplace=True)\n",
    "df['numberOfSellers'].fillna(df['numberOfSellers'].mean(), inplace=True)\n",
    "df['numberOfItems'].fillna(df['numberOfItems'].mean(), inplace=True)"
   ],
   "metadata": {
    "collapsed": false,
    "ExecuteTime": {
     "end_time": "2023-07-02T15:48:25.457007500Z",
     "start_time": "2023-07-02T15:48:25.428085300Z"
    }
   }
  },
  {
   "cell_type": "raw",
   "source": [
    "# Convert imageUrl column from links to image data (pixels) and track progress with swifter\n",
    "# imageUrl will be in this format: data:image/jpeg;base64/9j/4AAQSkZJRgABAQAAAQABAAD...\n",
    "# Do this in a very memory efficient way so that I do not recieve errors\n",
    "import swifter\n",
    "import numpy as np\n",
    "import base64\n",
    "import io\n",
    "from PIL import Image\n",
    "\n",
    "def get_image_data(image_url: str):\n",
    "    # Get the image data from the image url\n",
    "    image_data = image_url.split(',')[1]\n",
    "    # Convert the image data from base64 to bytes\n",
    "    image_data = base64.b64decode(image_data)\n",
    "    # Convert the image data from bytes to an image\n",
    "    image_data = Image.open(io.BytesIO(image_data))\n",
    "    # Convert the image to RGB\n",
    "    image_data = image_data.convert('RGB')\n",
    "    # Convert the image to an array\n",
    "    image_data = np.array(image_data)\n",
    "    # Return the image data\n",
    "    return image_data\n",
    "\n",
    "df['imageData'] = df['imageUrl'].swifter.apply(get_image_data)"
   ],
   "metadata": {
    "collapsed": false
   }
  },
  {
   "cell_type": "raw",
   "source": [
    "# Resize all the images to the same target size (change the imageData column)\n",
    "from skimage.transform import resize\n",
    "\n",
    "def resize_image(image_data, size: int):\n",
    "    # Resize the image\n",
    "    image_data = resize(image_data, (size, size, 3))\n",
    "    # Return the resized image\n",
    "    return image_data\n",
    "\n",
    "target_size = 256\n",
    "df['imageData'] = df['imageData'].swifter.apply(resize_image, size=target_size)"
   ],
   "metadata": {
    "collapsed": false
   }
  },
  {
   "cell_type": "markdown",
   "source": [
    "## Data Visualization"
   ],
   "metadata": {
    "collapsed": false
   }
  },
  {
   "cell_type": "raw",
   "source": [
    "import matplotlib.pyplot as plt\n",
    "import random\n",
    "\n",
    "def display_image_sale_colors(df, n: int):\n",
    "    # Create a figure with n x n subplots\n",
    "    fig, ax = plt.subplots(n, n, figsize=(20, 20))\n",
    "    # Set the spacing between subplots\n",
    "    fig.subplots_adjust(wspace=0.1, hspace=0.1)\n",
    "    # Get a random sample of n x n images\n",
    "    images = df.sample(n**2)\n",
    "    # Iterate through the images\n",
    "    for i, image in enumerate(images['imageData']):\n",
    "        # Get the corresponding row\n",
    "        row = images.iloc[i]\n",
    "        # Get the corresponding subplot\n",
    "        subplot = ax[i//n, i%n]\n",
    "        # Determine the color of the border by analyzing the sales and separating the sales data in quartiles. light red, red, light green, green\n",
    "        if row['sales'] < df['sales'].quantile(0.25):\n",
    "            color = 'lightcoral'\n",
    "        elif row['sales'] < df['sales'].quantile(0.5):\n",
    "            color = 'red'\n",
    "        elif row['sales'] < df['sales'].quantile(0.75):\n",
    "            color = 'green'\n",
    "        else:\n",
    "            color = 'lightgreen'\n",
    "\n",
    "        # Color the border of the image\n",
    "        subplot.spines['bottom'].set_color(color)\n",
    "        subplot.spines['top'].set_color(color)\n",
    "        subplot.spines['left'].set_color(color)\n",
    "        subplot.spines['right'].set_color(color)\n",
    "        # Increase border width\n",
    "        width = 5\n",
    "        subplot.spines['bottom'].set_linewidth(width)\n",
    "        subplot.spines['top'].set_linewidth(width)\n",
    "        subplot.spines['left'].set_linewidth(width)\n",
    "        subplot.spines['right'].set_linewidth(width)\n",
    "        # Display the image on the subplot\n",
    "        subplot.imshow(image)\n",
    "        # Set the title of the subplot\n",
    "        subplot.set_title(f'{row[\"subcategory\"]}')\n",
    "        # Remove the ticks from the subplot\n",
    "        subplot.set_xticks([])\n",
    "        subplot.set_yticks([])\n",
    "    # Display the figure\n",
    "    plt.show()\n",
    "\n",
    "display_image_sale_colors(df, 3)"
   ],
   "metadata": {
    "collapsed": false
   }
  },
  {
   "cell_type": "raw",
   "source": [
    "# Create a histogram of the sales column\n",
    "df['salesRounded'].hist()\n",
    "plt.title('Histogram of Sales')\n",
    "plt.xlabel('Sales')\n",
    "plt.ylabel('Frequency')\n",
    "plt.show()"
   ],
   "metadata": {
    "collapsed": false
   }
  },
  {
   "cell_type": "markdown",
   "source": [
    "## Extracting the colors from the title image"
   ],
   "metadata": {
    "collapsed": false
   }
  },
  {
   "cell_type": "raw",
   "source": [
    "# Get top 3 colors in rgb format using K means clustering. Store them in a tuple\n",
    "from sklearn.cluster import KMeans\n",
    "\n",
    "def get_top_colors(image_data, n_colors: int):\n",
    "    # Reshape the image data\n",
    "    image_data = image_data.reshape(-1, 3)\n",
    "    # Create a KMeans model\n",
    "    kmeans = KMeans(n_clusters=n_colors, random_state=42)\n",
    "    # Fit the model to the image data\n",
    "    kmeans.fit(image_data)\n",
    "    # Get the colors\n",
    "    colors = kmeans.cluster_centers_\n",
    "    # Return the colors\n",
    "    return colors\n",
    "\n",
    "n_colors = 3\n",
    "df['topColors'] = df['imageData'].swifter.apply(get_top_colors, n_colors=n_colors)\n",
    "\n",
    "# Split the top colors into 9 columns, color_1_r, color_1_g, color_1_b, color_2_r, color_2_g, color_2_b, color_3_r, color_3_g, color_3_b\n",
    "for i in range(n_colors):\n",
    "    df[f'color_{i+1}_r'] = df['topColors'].apply(lambda x: x[i][0])\n",
    "    df[f'color_{i+1}_g'] = df['topColors'].apply(lambda x: x[i][1])\n",
    "    df[f'color_{i+1}_b'] = df['topColors'].apply(lambda x: x[i][2])\n",
    "\n",
    "# Drop the top colors column\n",
    "df.drop(columns=['topColors'], inplace=True)"
   ],
   "metadata": {
    "collapsed": false
   }
  },
  {
   "cell_type": "markdown",
   "source": [
    "## Making the multi-modal neural network"
   ],
   "metadata": {
    "collapsed": false
   }
  },
  {
   "cell_type": "markdown",
   "source": [
    "The inputs for the model will be the predictions from the imageData, the predictions from the title, the price, the numberOfSellers, whether or not it is a variation, and the number of items. The outputs will be the sales. The imageData will be fed into the previously created KNN model. The title will be fed into the previously made natural language processing model. The outputs of the two models will be concatenated and fed into a dense neural network. The output of the dense neural network will be an integer that represents the sales subdivision of the product."
   ],
   "metadata": {
    "collapsed": false
   }
  },
  {
   "cell_type": "code",
   "execution_count": 54,
   "outputs": [],
   "source": [
    "# Create new dataframe that will store the inputs into the multimodal nn.\n",
    "#df_nn = df[['price', 'numberOfSellers', 'isVariation', 'numberOfItems', 'sales']]\n",
    "df_nn = df.drop(columns=['title', 'subcategory', 'asin', 'imageUrl'])"
   ],
   "metadata": {
    "collapsed": false,
    "ExecuteTime": {
     "end_time": "2023-07-02T15:48:25.466980900Z",
     "start_time": "2023-07-02T15:48:25.447035500Z"
    }
   }
  },
  {
   "cell_type": "markdown",
   "source": [
    "### Adding the Sales Prediction from the Image Data to the dataframe using a K-Nearest-Neighbors Model"
   ],
   "metadata": {
    "collapsed": false
   }
  },
  {
   "cell_type": "raw",
   "source": [
    "# Create the KNN Classifier\n",
    "from sklearn.neighbors import KNeighborsClassifier\n",
    "from sklearn.model_selection import train_test_split\n",
    "from sklearn.metrics import accuracy_score"
   ],
   "metadata": {
    "collapsed": false
   }
  },
  {
   "cell_type": "raw",
   "source": [
    "# Create the X and y variables\n",
    "X = df['imageData'].values\n",
    "X = np.array([x.flatten() for x in X])\n",
    "\n",
    "y = df['salesRounded'].values\n",
    "\n",
    "# Partition Data\n",
    "X_train, X_test, y_train, y_test = train_test_split(X, y, test_size=0.2)\n",
    "\n",
    "# Create a list of possible number of neighbors\n",
    "neighbors = list(range(1, 10))\n",
    "\n",
    "# Create a dictionary of hyperparameter values\n",
    "hyperparameters = dict(n_neighbors=neighbors)\n",
    "\n",
    "# Create the GridSearchCV object\n",
    "from sklearn.model_selection import GridSearchCV\n",
    "gridsearch = GridSearchCV(KNeighborsClassifier(), hyperparameters, cv=2, verbose=1)\n",
    "\n",
    "# Fit the GridSearchCV object to the training data\n",
    "gridsearch.fit(X_train, y_train)\n",
    "\n",
    "# Get the best number of neighbors\n",
    "best_neighbors = gridsearch.best_params_['n_neighbors']\n",
    "print(f'Best Number of Neighbors: {best_neighbors}')\n",
    "\n",
    "# Create the classifier with the best number of neighbors\n",
    "knn_classifier = KNeighborsClassifier(n_neighbors=best_neighbors)\n",
    "\n",
    "# Train the classifier\n",
    "knn_classifier.fit(X_train, y_train)\n",
    "\n",
    "# Make predictions on the test data\n",
    "y_pred = knn_classifier.predict(X_test)\n",
    "\n",
    "# Calculate the accuracy of the classifier\n",
    "accuracy = accuracy_score(y_test, y_pred)\n",
    "print(f'Accuracy: {accuracy}')"
   ],
   "metadata": {
    "collapsed": false
   }
  },
  {
   "cell_type": "raw",
   "source": [
    "# Graph the predictions from the titles of the sales vs the actual sales for y_test\n",
    "import matplotlib.pyplot as plt\n",
    "plt.scatter(y_test, y_pred)\n",
    "plt.xlabel('Actual Sales')\n",
    "plt.ylabel('Predicted Sales')\n",
    "plt.title('Predicted Sales vs Actual Sales')\n",
    "plt.show()"
   ],
   "metadata": {
    "collapsed": false
   }
  },
  {
   "cell_type": "raw",
   "source": [
    "# Go through every row in df and get the predicted sales from the KNN model and store it in a list\n",
    "def get_image_prediction(image_data):\n",
    "    # Get the predicted sales\n",
    "    prediction = knn_classifier.predict(image_data.flatten().reshape(1, -1))[0]\n",
    "    # Return the prediction\n",
    "    return prediction\n",
    "\n",
    "# Add the predicted sales to the dataframe\n",
    "df_nn['predictedSalesFromImage'] = df['imageData'].swifter.apply(get_image_prediction)"
   ],
   "metadata": {
    "collapsed": false
   }
  },
  {
   "cell_type": "markdown",
   "source": [
    "### Adding the Sales Prediction from the Title and the Description to the dataframe using a Natural Language Processing Model"
   ],
   "metadata": {
    "collapsed": false
   }
  },
  {
   "cell_type": "code",
   "execution_count": 55,
   "outputs": [
    {
     "name": "stderr",
     "output_type": "stream",
     "text": [
      "C:\\Users\\shtey\\anaconda3\\lib\\site-packages\\sklearn\\model_selection\\_split.py:676: UserWarning: The least populated class in y has only 1 members, which is less than n_splits=2.\n",
      "  warnings.warn(\n",
      "C:\\Users\\shtey\\anaconda3\\lib\\site-packages\\sklearn\\svm\\_base.py:1206: ConvergenceWarning: Liblinear failed to converge, increase the number of iterations.\n",
      "  warnings.warn(\n",
      "C:\\Users\\shtey\\anaconda3\\lib\\site-packages\\sklearn\\svm\\_base.py:1206: ConvergenceWarning: Liblinear failed to converge, increase the number of iterations.\n",
      "  warnings.warn(\n"
     ]
    },
    {
     "name": "stdout",
     "output_type": "stream",
     "text": [
      "Best Parameters: {'C': 1}\n",
      "Best Score: 0.2879773219943305\n",
      "Accuracy: 0.320106702234078\n"
     ]
    }
   ],
   "source": [
    "import re\n",
    "\n",
    "# Create a function that will clean the title\n",
    "def clean_text(text):\n",
    "    # Remove the brackets and their contents\n",
    "    text = re.sub(r'\\[.*?\\]', '', text)\n",
    "    # Remove the parentheses and their contents\n",
    "    text = re.sub(r'\\(.*?\\)', '', text)\n",
    "    # Remove the punctuation\n",
    "    text = re.sub(r'[^\\w\\s]', '', text)\n",
    "    # Remove the words that are less than 3 characters\n",
    "    text = re.sub(r'\\b\\w{1,2}\\b', '', text)\n",
    "    # Remove the extra spaces\n",
    "    text = re.sub(r'\\s+', ' ', text)\n",
    "    # Convert the title to lowercase\n",
    "    text = text.lower()\n",
    "    return text\n",
    "\n",
    "# Clean the titles\n",
    "df['title'] = df['title'].apply(clean_text)\n",
    "\n",
    "# Create the X and y variables\n",
    "X = df['title'].values\n",
    "y = df['salesRounded'].values\n",
    "\n",
    "# Create the vectorizer\n",
    "from sklearn.feature_extraction.text import TfidfVectorizer\n",
    "vectorizer = TfidfVectorizer()\n",
    "\n",
    "# Create the X vector\n",
    "X = vectorizer.fit_transform(X)\n",
    "\n",
    "# Partition the data\n",
    "from sklearn.model_selection import train_test_split\n",
    "X_train, X_test, y_train, y_test = train_test_split(X, y, test_size=0.2)\n",
    "\n",
    "# Create the classifier\n",
    "from sklearn.svm import LinearSVC\n",
    "svc_classifier = LinearSVC(max_iter=10000)\n",
    "\n",
    "# Create the parameter grid\n",
    "param_grid = {'C': [0.1, 1, 10, 100, 1000]}\n",
    "\n",
    "# Create the grid search\n",
    "from sklearn.model_selection import GridSearchCV\n",
    "grid_search = GridSearchCV(svc_classifier, param_grid, cv=2)\n",
    "\n",
    "# Fit the grid search\n",
    "grid_search.fit(X_train, y_train)\n",
    "\n",
    "# Get the best parameters\n",
    "best_params = grid_search.best_params_\n",
    "print(f'Best Parameters: {best_params}')\n",
    "\n",
    "# Get the best score\n",
    "best_score = grid_search.best_score_\n",
    "print(f'Best Score: {best_score}')\n",
    "\n",
    "# Create the classifier\n",
    "svc_classifier = LinearSVC(C=best_params['C'])\n",
    "\n",
    "# Fit the classifier\n",
    "svc_classifier.fit(X_train, y_train)\n",
    "\n",
    "# Make predictions\n",
    "y_pred = svc_classifier.predict(X_test)\n",
    "\n",
    "# Calculate the accuracy\n",
    "from sklearn.metrics import accuracy_score\n",
    "accuracy = accuracy_score(y_test, y_pred)\n",
    "print(f'Accuracy: {accuracy}')"
   ],
   "metadata": {
    "collapsed": false,
    "ExecuteTime": {
     "end_time": "2023-07-02T15:49:27.530117300Z",
     "start_time": "2023-07-02T15:48:25.459003600Z"
    }
   }
  },
  {
   "cell_type": "code",
   "execution_count": 56,
   "outputs": [
    {
     "data": {
      "text/plain": "Pandas Apply:   0%|          | 0/14993 [00:00<?, ?it/s]",
      "application/vnd.jupyter.widget-view+json": {
       "version_major": 2,
       "version_minor": 0,
       "model_id": "f31f992621da443e8f398f4b5ef72078"
      }
     },
     "metadata": {},
     "output_type": "display_data"
    }
   ],
   "source": [
    "# Go through every row in df and get the predicted sales from the NLP model and store it in a list\n",
    "def get_title_prediction(title):\n",
    "    # Clean the title\n",
    "    title = clean_text(title)\n",
    "    # Vectorize the title\n",
    "    title = vectorizer.transform([title])\n",
    "    # Get the predicted sales\n",
    "    prediction = svc_classifier.predict(title)[0]\n",
    "    # Return the prediction\n",
    "    return prediction\n",
    "\n",
    "# Add the predicted sales to the dataframe\n",
    "df_nn['predictedSalesFromTitle'] = df['title'].swifter.apply(get_title_prediction)"
   ],
   "metadata": {
    "collapsed": false,
    "ExecuteTime": {
     "end_time": "2023-07-02T15:49:36.553873400Z",
     "start_time": "2023-07-02T15:49:27.535045300Z"
    }
   }
  },
  {
   "cell_type": "markdown",
   "source": [
    "## Creating the Multi-Modal Neural Network"
   ],
   "metadata": {
    "collapsed": false
   }
  },
  {
   "cell_type": "code",
   "execution_count": 57,
   "outputs": [
    {
     "name": "stdout",
     "output_type": "stream",
     "text": [
      "Epoch 1/600\n",
      "375/375 [==============================] - 3s 5ms/step - loss: 5985169.0000 - val_loss: 5301532.5000\n",
      "Epoch 2/600\n",
      "375/375 [==============================] - 1s 4ms/step - loss: 5924781.5000 - val_loss: 5098653.5000\n",
      "Epoch 3/600\n",
      "375/375 [==============================] - 1s 4ms/step - loss: 5226894.5000 - val_loss: 3886080.7500\n",
      "Epoch 4/600\n",
      "375/375 [==============================] - 1s 4ms/step - loss: 4102662.7500 - val_loss: 2845245.0000\n",
      "Epoch 5/600\n",
      "375/375 [==============================] - 1s 4ms/step - loss: 3618460.2500 - val_loss: 2569475.7500\n",
      "Epoch 6/600\n",
      "375/375 [==============================] - 2s 4ms/step - loss: 3442347.5000 - val_loss: 2618945.2500\n",
      "Epoch 7/600\n",
      "375/375 [==============================] - 2s 4ms/step - loss: 3137289.0000 - val_loss: 2858608.2500\n",
      "Epoch 8/600\n",
      "375/375 [==============================] - 2s 4ms/step - loss: 3072991.5000 - val_loss: 2514215.2500\n",
      "Epoch 9/600\n",
      "375/375 [==============================] - 1s 4ms/step - loss: 3102875.7500 - val_loss: 2527274.5000\n",
      "Epoch 10/600\n",
      "375/375 [==============================] - 1s 4ms/step - loss: 3145400.5000 - val_loss: 2408129.5000\n",
      "Epoch 11/600\n",
      "375/375 [==============================] - 1s 4ms/step - loss: 3329291.5000 - val_loss: 2230935.2500\n",
      "Epoch 12/600\n",
      "375/375 [==============================] - 1s 4ms/step - loss: 2981305.0000 - val_loss: 2196032.2500\n",
      "Epoch 13/600\n",
      "375/375 [==============================] - 1s 4ms/step - loss: 2991578.7500 - val_loss: 2101911.5000\n",
      "Epoch 14/600\n",
      "375/375 [==============================] - 1s 4ms/step - loss: 2926086.0000 - val_loss: 2136461.7500\n",
      "Epoch 15/600\n",
      "375/375 [==============================] - 1s 4ms/step - loss: 2932830.5000 - val_loss: 1869780.7500\n",
      "Epoch 16/600\n",
      "375/375 [==============================] - 1s 4ms/step - loss: 2810859.5000 - val_loss: 1881109.6250\n",
      "Epoch 17/600\n",
      "375/375 [==============================] - 1s 4ms/step - loss: 2799711.7500 - val_loss: 1933136.3750\n",
      "Epoch 18/600\n",
      "375/375 [==============================] - 1s 4ms/step - loss: 2860133.5000 - val_loss: 1757825.1250\n",
      "Epoch 19/600\n",
      "375/375 [==============================] - 1s 4ms/step - loss: 2703362.5000 - val_loss: 1529171.2500\n",
      "Epoch 20/600\n",
      "375/375 [==============================] - 1s 4ms/step - loss: 2750572.2500 - val_loss: 1442794.5000\n",
      "Epoch 21/600\n",
      "375/375 [==============================] - 1s 4ms/step - loss: 2831047.2500 - val_loss: 1494825.7500\n",
      "Epoch 22/600\n",
      "375/375 [==============================] - 1s 4ms/step - loss: 2873218.0000 - val_loss: 1448379.0000\n",
      "Epoch 23/600\n",
      "375/375 [==============================] - 1s 4ms/step - loss: 2961216.0000 - val_loss: 1478905.7500\n",
      "Epoch 24/600\n",
      "375/375 [==============================] - 1s 4ms/step - loss: 2657163.5000 - val_loss: 1397715.7500\n",
      "Epoch 25/600\n",
      "375/375 [==============================] - 1s 4ms/step - loss: 2755045.7500 - val_loss: 1270981.1250\n",
      "Epoch 26/600\n",
      "375/375 [==============================] - 1s 4ms/step - loss: 2984122.7500 - val_loss: 1365088.5000\n",
      "Epoch 27/600\n",
      "375/375 [==============================] - 1s 4ms/step - loss: 2881662.0000 - val_loss: 1321285.6250\n",
      "Epoch 28/600\n",
      "375/375 [==============================] - 1s 4ms/step - loss: 2927844.0000 - val_loss: 1292982.8750\n",
      "Epoch 29/600\n",
      "375/375 [==============================] - 1s 4ms/step - loss: 2903083.2500 - val_loss: 1418895.6250\n",
      "Epoch 30/600\n",
      "375/375 [==============================] - 1s 4ms/step - loss: 2865391.5000 - val_loss: 1437407.2500\n",
      "Epoch 31/600\n",
      "375/375 [==============================] - 1s 4ms/step - loss: 2568952.5000 - val_loss: 1311645.1250\n",
      "Epoch 32/600\n",
      "375/375 [==============================] - 1s 4ms/step - loss: 2515439.2500 - val_loss: 1320672.0000\n",
      "Epoch 33/600\n",
      "375/375 [==============================] - 1s 4ms/step - loss: 2841036.2500 - val_loss: 1246346.3750\n",
      "Epoch 34/600\n",
      "375/375 [==============================] - 1s 4ms/step - loss: 2693115.5000 - val_loss: 1254377.6250\n",
      "Epoch 35/600\n",
      "375/375 [==============================] - 1s 4ms/step - loss: 2744651.2500 - val_loss: 1204394.7500\n",
      "Epoch 36/600\n",
      "375/375 [==============================] - 1s 4ms/step - loss: 2740963.7500 - val_loss: 1211861.2500\n",
      "Epoch 37/600\n",
      "375/375 [==============================] - 1s 4ms/step - loss: 2744516.0000 - val_loss: 1169899.0000\n",
      "Epoch 38/600\n",
      "375/375 [==============================] - 1s 4ms/step - loss: 2414814.2500 - val_loss: 1202018.3750\n",
      "Epoch 39/600\n",
      "375/375 [==============================] - 1s 4ms/step - loss: 2782640.2500 - val_loss: 1190665.6250\n",
      "Epoch 40/600\n",
      "375/375 [==============================] - 1s 4ms/step - loss: 2670541.2500 - val_loss: 1081130.6250\n",
      "Epoch 41/600\n",
      "375/375 [==============================] - 1s 4ms/step - loss: 2972031.2500 - val_loss: 1233274.1250\n",
      "Epoch 42/600\n",
      "375/375 [==============================] - 1s 4ms/step - loss: 2962196.7500 - val_loss: 1299304.3750\n",
      "Epoch 43/600\n",
      "375/375 [==============================] - 1s 4ms/step - loss: 2637788.2500 - val_loss: 1269339.1250\n",
      "Epoch 44/600\n",
      "375/375 [==============================] - 1s 4ms/step - loss: 2693170.2500 - val_loss: 1188593.0000\n",
      "Epoch 45/600\n",
      "375/375 [==============================] - 1s 4ms/step - loss: 2725008.0000 - val_loss: 1136336.3750\n",
      "Epoch 46/600\n",
      "375/375 [==============================] - 1s 4ms/step - loss: 2726291.2500 - val_loss: 1101802.7500\n",
      "Epoch 47/600\n",
      "375/375 [==============================] - 1s 4ms/step - loss: 2530057.0000 - val_loss: 1097512.8750\n",
      "Epoch 48/600\n",
      "375/375 [==============================] - 1s 4ms/step - loss: 2414951.0000 - val_loss: 1092336.2500\n",
      "Epoch 49/600\n",
      "375/375 [==============================] - 1s 4ms/step - loss: 2602769.0000 - val_loss: 1176807.1250\n",
      "Epoch 50/600\n",
      "375/375 [==============================] - 2s 4ms/step - loss: 2548622.5000 - val_loss: 1153092.7500\n",
      "Epoch 51/600\n",
      "375/375 [==============================] - 1s 4ms/step - loss: 2466030.2500 - val_loss: 1096395.0000\n",
      "Epoch 52/600\n",
      "375/375 [==============================] - 1s 4ms/step - loss: 2622780.5000 - val_loss: 1120511.0000\n",
      "Epoch 53/600\n",
      "375/375 [==============================] - 2s 4ms/step - loss: 2527338.5000 - val_loss: 1095978.3750\n",
      "Epoch 54/600\n",
      "375/375 [==============================] - 2s 4ms/step - loss: 2545812.7500 - val_loss: 1073906.3750\n",
      "Epoch 55/600\n",
      "375/375 [==============================] - 2s 4ms/step - loss: 2568557.7500 - val_loss: 1091895.0000\n",
      "Epoch 56/600\n",
      "375/375 [==============================] - 1s 4ms/step - loss: 2645187.5000 - val_loss: 1160553.8750\n",
      "Epoch 57/600\n",
      "375/375 [==============================] - 1s 4ms/step - loss: 2377344.0000 - val_loss: 1103114.5000\n",
      "Epoch 58/600\n",
      "375/375 [==============================] - 1s 4ms/step - loss: 2493824.2500 - val_loss: 1067410.0000\n",
      "Epoch 59/600\n",
      "375/375 [==============================] - 2s 4ms/step - loss: 2735832.0000 - val_loss: 1108369.8750\n",
      "Epoch 60/600\n",
      "375/375 [==============================] - 2s 4ms/step - loss: 2388141.2500 - val_loss: 996594.5000\n",
      "Epoch 61/600\n",
      "375/375 [==============================] - 2s 4ms/step - loss: 2637264.5000 - val_loss: 992716.8125\n",
      "Epoch 62/600\n",
      "375/375 [==============================] - 2s 4ms/step - loss: 2452440.2500 - val_loss: 1010340.0000\n",
      "Epoch 63/600\n",
      "375/375 [==============================] - 2s 4ms/step - loss: 2494903.0000 - val_loss: 1000885.2500\n",
      "Epoch 64/600\n",
      "375/375 [==============================] - 2s 4ms/step - loss: 2473523.2500 - val_loss: 1039959.3125\n",
      "Epoch 65/600\n",
      "375/375 [==============================] - 2s 4ms/step - loss: 2446490.7500 - val_loss: 1060384.1250\n",
      "Epoch 66/600\n",
      "375/375 [==============================] - 1s 4ms/step - loss: 2435238.0000 - val_loss: 1097394.0000\n",
      "Epoch 67/600\n",
      "375/375 [==============================] - 2s 4ms/step - loss: 2558322.2500 - val_loss: 1125460.0000\n",
      "Epoch 68/600\n",
      "375/375 [==============================] - 2s 4ms/step - loss: 2653127.2500 - val_loss: 1027886.9375\n",
      "Epoch 69/600\n",
      "375/375 [==============================] - 1s 4ms/step - loss: 2608855.5000 - val_loss: 1028816.0000\n",
      "Epoch 70/600\n",
      "375/375 [==============================] - 2s 4ms/step - loss: 2548684.5000 - val_loss: 1135890.7500\n",
      "Epoch 71/600\n",
      "375/375 [==============================] - 2s 4ms/step - loss: 2677510.2500 - val_loss: 1097444.3750\n",
      "Epoch 72/600\n",
      "375/375 [==============================] - 2s 4ms/step - loss: 2842641.5000 - val_loss: 1099992.8750\n",
      "Epoch 73/600\n",
      "375/375 [==============================] - 2s 4ms/step - loss: 2488645.5000 - val_loss: 1036676.3125\n",
      "Epoch 74/600\n",
      "375/375 [==============================] - 1s 4ms/step - loss: 2621634.7500 - val_loss: 1189056.3750\n",
      "Epoch 75/600\n",
      "375/375 [==============================] - 1s 4ms/step - loss: 2390520.5000 - val_loss: 1077729.8750\n",
      "Epoch 76/600\n",
      "375/375 [==============================] - 1s 4ms/step - loss: 2961241.2500 - val_loss: 1162011.3750\n",
      "Epoch 77/600\n",
      "375/375 [==============================] - 1s 4ms/step - loss: 2724563.7500 - val_loss: 1168456.3750\n",
      "Epoch 78/600\n",
      "375/375 [==============================] - 1s 4ms/step - loss: 2736731.7500 - val_loss: 1101167.3750\n",
      "Epoch 79/600\n",
      "375/375 [==============================] - 1s 4ms/step - loss: 2481531.7500 - val_loss: 1086009.1250\n",
      "Epoch 80/600\n",
      "375/375 [==============================] - 2s 4ms/step - loss: 2526798.2500 - val_loss: 1067358.3750\n",
      "Epoch 81/600\n",
      "375/375 [==============================] - 1s 4ms/step - loss: 2671388.7500 - val_loss: 1013167.9375\n",
      "Epoch 82/600\n",
      "375/375 [==============================] - 2s 4ms/step - loss: 2612633.2500 - val_loss: 1074657.5000\n",
      "Epoch 83/600\n",
      "375/375 [==============================] - 2s 4ms/step - loss: 2755791.0000 - val_loss: 1066034.3750\n",
      "Epoch 84/600\n",
      "375/375 [==============================] - 2s 4ms/step - loss: 2421442.5000 - val_loss: 1005104.7500\n",
      "Epoch 85/600\n",
      "375/375 [==============================] - 1s 4ms/step - loss: 2409551.5000 - val_loss: 1096350.3750\n",
      "Epoch 86/600\n",
      "375/375 [==============================] - 1s 4ms/step - loss: 2427409.7500 - val_loss: 976930.3125\n",
      "Epoch 87/600\n",
      "375/375 [==============================] - 1s 4ms/step - loss: 2352402.5000 - val_loss: 983028.8125\n",
      "Epoch 88/600\n",
      "375/375 [==============================] - 1s 4ms/step - loss: 2315760.5000 - val_loss: 922819.3750\n",
      "Epoch 89/600\n",
      "375/375 [==============================] - 1s 4ms/step - loss: 2443527.2500 - val_loss: 988301.6875\n",
      "Epoch 90/600\n",
      "375/375 [==============================] - 1s 4ms/step - loss: 2656842.0000 - val_loss: 1046072.2500\n",
      "Epoch 91/600\n",
      "375/375 [==============================] - 1s 4ms/step - loss: 2614485.2500 - val_loss: 1074718.2500\n",
      "Epoch 92/600\n",
      "375/375 [==============================] - 1s 4ms/step - loss: 2466956.2500 - val_loss: 1056489.3750\n",
      "Epoch 93/600\n",
      "375/375 [==============================] - 1s 4ms/step - loss: 2379682.0000 - val_loss: 964693.0000\n",
      "Epoch 94/600\n",
      "375/375 [==============================] - 1s 4ms/step - loss: 2603327.0000 - val_loss: 1140676.7500\n",
      "Epoch 95/600\n",
      "375/375 [==============================] - 1s 4ms/step - loss: 2943838.7500 - val_loss: 1265891.6250\n",
      "Epoch 96/600\n",
      "375/375 [==============================] - 2s 4ms/step - loss: 2486340.5000 - val_loss: 1128569.6250\n",
      "Epoch 97/600\n",
      "375/375 [==============================] - 1s 4ms/step - loss: 2554451.0000 - val_loss: 1037765.6250\n",
      "Epoch 98/600\n",
      "375/375 [==============================] - 1s 4ms/step - loss: 2905982.0000 - val_loss: 1215739.5000\n",
      "Epoch 99/600\n",
      "375/375 [==============================] - 1s 4ms/step - loss: 2554360.5000 - val_loss: 1241543.1250\n",
      "Epoch 100/600\n",
      "375/375 [==============================] - 1s 4ms/step - loss: 2525529.0000 - val_loss: 1118498.1250\n",
      "Epoch 101/600\n",
      "375/375 [==============================] - 1s 4ms/step - loss: 2535899.2500 - val_loss: 1042435.9375\n",
      "Epoch 102/600\n",
      "375/375 [==============================] - 2s 4ms/step - loss: 2497535.7500 - val_loss: 979629.8125\n",
      "Epoch 103/600\n",
      "375/375 [==============================] - 1s 4ms/step - loss: 2583624.0000 - val_loss: 1026653.3750\n",
      "Epoch 104/600\n",
      "375/375 [==============================] - 1s 4ms/step - loss: 2517543.2500 - val_loss: 983445.1875\n",
      "Epoch 105/600\n",
      "375/375 [==============================] - 1s 4ms/step - loss: 2474868.2500 - val_loss: 1062995.3750\n",
      "Epoch 106/600\n",
      "375/375 [==============================] - 1s 4ms/step - loss: 2454829.5000 - val_loss: 956254.3125\n",
      "Epoch 107/600\n",
      "375/375 [==============================] - 1s 4ms/step - loss: 2406200.7500 - val_loss: 990228.5625\n",
      "Epoch 108/600\n",
      "375/375 [==============================] - 2s 4ms/step - loss: 2661986.5000 - val_loss: 1095162.6250\n",
      "Epoch 109/600\n",
      "375/375 [==============================] - 2s 4ms/step - loss: 2506324.5000 - val_loss: 1030478.1875\n",
      "Epoch 110/600\n",
      "375/375 [==============================] - 2s 4ms/step - loss: 2438239.0000 - val_loss: 899545.5625\n",
      "Epoch 111/600\n",
      "375/375 [==============================] - 2s 4ms/step - loss: 2693550.2500 - val_loss: 1036290.5625\n",
      "Epoch 112/600\n",
      "375/375 [==============================] - 2s 4ms/step - loss: 2584512.7500 - val_loss: 1052202.1250\n",
      "Epoch 113/600\n",
      "375/375 [==============================] - 2s 4ms/step - loss: 2578382.0000 - val_loss: 1033464.5625\n",
      "Epoch 114/600\n",
      "375/375 [==============================] - 1s 4ms/step - loss: 2459519.7500 - val_loss: 968085.6250\n",
      "Epoch 115/600\n",
      "375/375 [==============================] - 2s 4ms/step - loss: 2376911.0000 - val_loss: 986534.0000\n",
      "Epoch 116/600\n",
      "375/375 [==============================] - 2s 4ms/step - loss: 2250932.7500 - val_loss: 1052850.3750\n",
      "Epoch 117/600\n",
      "375/375 [==============================] - 2s 4ms/step - loss: 2389602.5000 - val_loss: 1018416.1250\n",
      "Epoch 118/600\n",
      "375/375 [==============================] - 2s 5ms/step - loss: 2315076.7500 - val_loss: 1042844.0625\n",
      "Epoch 119/600\n",
      "375/375 [==============================] - 1s 4ms/step - loss: 2704080.5000 - val_loss: 1038732.8750\n",
      "Epoch 120/600\n",
      "375/375 [==============================] - 1s 4ms/step - loss: 2557949.7500 - val_loss: 1128230.1250\n",
      "Epoch 121/600\n",
      "375/375 [==============================] - 1s 3ms/step - loss: 2594871.7500 - val_loss: 1052886.2500\n",
      "Epoch 122/600\n",
      "375/375 [==============================] - 1s 3ms/step - loss: 2612889.0000 - val_loss: 1008041.6875\n",
      "Epoch 123/600\n",
      "375/375 [==============================] - 1s 3ms/step - loss: 2442967.0000 - val_loss: 919407.0000\n",
      "Epoch 124/600\n",
      "375/375 [==============================] - 1s 4ms/step - loss: 2522224.2500 - val_loss: 981191.0000\n",
      "Epoch 125/600\n",
      "375/375 [==============================] - 1s 4ms/step - loss: 2421881.7500 - val_loss: 1006938.3750\n",
      "Epoch 126/600\n",
      "375/375 [==============================] - 1s 4ms/step - loss: 2161897.0000 - val_loss: 938099.8125\n",
      "Epoch 127/600\n",
      "375/375 [==============================] - 2s 4ms/step - loss: 2474889.2500 - val_loss: 1012695.8125\n",
      "Epoch 128/600\n",
      "375/375 [==============================] - 1s 4ms/step - loss: 2529715.5000 - val_loss: 1056946.8750\n",
      "Epoch 129/600\n",
      "375/375 [==============================] - 1s 4ms/step - loss: 2467823.2500 - val_loss: 884070.1875\n",
      "Epoch 130/600\n",
      "375/375 [==============================] - 2s 4ms/step - loss: 2238279.7500 - val_loss: 921622.3750\n",
      "Epoch 131/600\n",
      "375/375 [==============================] - 2s 4ms/step - loss: 2266009.0000 - val_loss: 990231.5625\n",
      "Epoch 132/600\n",
      "375/375 [==============================] - 1s 3ms/step - loss: 2490729.0000 - val_loss: 946159.0000\n",
      "Epoch 133/600\n",
      "375/375 [==============================] - 1s 3ms/step - loss: 2525223.0000 - val_loss: 932946.3125\n",
      "Epoch 134/600\n",
      "375/375 [==============================] - 1s 4ms/step - loss: 2459533.5000 - val_loss: 1048828.1250\n",
      "Epoch 135/600\n",
      "375/375 [==============================] - 1s 4ms/step - loss: 2556709.5000 - val_loss: 1103687.2500\n",
      "Epoch 136/600\n",
      "375/375 [==============================] - 1s 4ms/step - loss: 2549605.5000 - val_loss: 1040810.8125\n",
      "Epoch 137/600\n",
      "375/375 [==============================] - 1s 4ms/step - loss: 2354731.7500 - val_loss: 1044957.8750\n",
      "Epoch 138/600\n",
      "375/375 [==============================] - 1s 4ms/step - loss: 2313785.5000 - val_loss: 1045508.7500\n",
      "Epoch 139/600\n",
      "375/375 [==============================] - 1s 3ms/step - loss: 2701183.7500 - val_loss: 995467.9375\n",
      "Epoch 140/600\n",
      "375/375 [==============================] - 1s 3ms/step - loss: 2410332.2500 - val_loss: 976974.0000\n",
      "Epoch 141/600\n",
      "375/375 [==============================] - 1s 3ms/step - loss: 2484532.7500 - val_loss: 957398.1875\n",
      "Epoch 142/600\n",
      "375/375 [==============================] - 2s 5ms/step - loss: 2338712.2500 - val_loss: 891067.6875\n",
      "Epoch 143/600\n",
      "375/375 [==============================] - 1s 4ms/step - loss: 2786181.2500 - val_loss: 1071562.6250\n",
      "Epoch 144/600\n",
      "375/375 [==============================] - 2s 4ms/step - loss: 2522694.5000 - val_loss: 1018830.1250\n",
      "Epoch 145/600\n",
      "375/375 [==============================] - 2s 4ms/step - loss: 2561927.2500 - val_loss: 1030676.2500\n",
      "Epoch 146/600\n",
      "375/375 [==============================] - 2s 5ms/step - loss: 2626563.0000 - val_loss: 1068928.0000\n",
      "Epoch 147/600\n",
      "375/375 [==============================] - 2s 4ms/step - loss: 2604425.0000 - val_loss: 1094517.2500\n",
      "Epoch 148/600\n",
      "375/375 [==============================] - 2s 4ms/step - loss: 2557071.5000 - val_loss: 1060373.5000\n",
      "Epoch 149/600\n",
      "375/375 [==============================] - 1s 4ms/step - loss: 2524518.0000 - val_loss: 983418.9375\n",
      "Epoch 150/600\n",
      "375/375 [==============================] - 1s 4ms/step - loss: 2404436.5000 - val_loss: 930974.0625\n",
      "Epoch 151/600\n",
      "375/375 [==============================] - 2s 4ms/step - loss: 2407629.0000 - val_loss: 900306.7500\n",
      "Epoch 152/600\n",
      "375/375 [==============================] - 1s 4ms/step - loss: 2420819.5000 - val_loss: 909401.1875\n",
      "Epoch 153/600\n",
      "375/375 [==============================] - 1s 3ms/step - loss: 2254583.7500 - val_loss: 929291.2500\n",
      "Epoch 154/600\n",
      "375/375 [==============================] - 1s 3ms/step - loss: 2528042.0000 - val_loss: 936212.7500\n",
      "Epoch 154: early stopping\n",
      "94/94 [==============================] - 0s 1ms/step\n",
      "Accuracy: 0.0\n"
     ]
    },
    {
     "data": {
      "text/plain": "<Figure size 432x288 with 1 Axes>",
      "image/png": "[encoded data removed]"
     },
     "metadata": {
      "needs_background": "light"
     },
     "output_type": "display_data"
    }
   ],
   "source": [
    "# Create the X and y variables\n",
    "# X should contain everything except for the sales and salesQuartile columns\n",
    "X = df_nn.drop(['salesRounded'], axis=1).values\n",
    "y = df_nn['salesRounded'].values\n",
    "\n",
    "# Partition the data\n",
    "from sklearn.model_selection import train_test_split\n",
    "X_train, X_test, y_train, y_test = train_test_split(X, y, test_size=0.2)\n",
    "\n",
    "# Create the scaler\n",
    "from sklearn.preprocessing import StandardScaler\n",
    "scaler = StandardScaler()\n",
    "\n",
    "# Scale the X variables\n",
    "X_train = scaler.fit_transform(X_train)\n",
    "X_test = scaler.transform(X_test)\n",
    "\n",
    "# Create the neural network\n",
    "from tensorflow.keras.models import Sequential\n",
    "from tensorflow.keras.layers import Dense, Dropout\n",
    "from tensorflow.keras.callbacks import EarlyStopping\n",
    "\n",
    "n_units = X_train.shape[1]\n",
    "_epochs = 600\n",
    "\n",
    "# Create the neural network. Output should be integer from 1-# of sales quartiles\n",
    "nn = Sequential()\n",
    "nn.add(Dense(n_units, activation='relu'))\n",
    "nn.add(Dropout(0.5))\n",
    "nn.add(Dense(n_units, activation='relu'))\n",
    "nn.add(Dropout(0.5))\n",
    "nn.add(Dense(n_units, activation='relu'))\n",
    "nn.add(Dropout(0.5))\n",
    "nn.add(Dense(1, activation='linear'))\n",
    "\n",
    "# Compile the neural network\n",
    "nn.compile(optimizer='adam', loss='mse')\n",
    "\n",
    "# Create the early stopping callback\n",
    "early_stop = EarlyStopping(monitor='val_loss', mode='min', verbose=1, patience=25)\n",
    "\n",
    "# Fit the neural network\n",
    "nn.fit(x=X_train, y=y_train, epochs=_epochs, validation_data=(X_test, y_test), callbacks=[early_stop])\n",
    "\n",
    "# Get the loss\n",
    "losses = pd.DataFrame(nn.history.history)\n",
    "losses.plot()\n",
    "\n",
    "# Make predictions\n",
    "y_pred = nn.predict(X_test)\n",
    "\n",
    "# Calculate the accuracy\n",
    "from sklearn.metrics import accuracy_score\n",
    "accuracy = accuracy_score(y_test, y_pred.round())\n",
    "print(f'Accuracy: {accuracy}')"
   ],
   "metadata": {
    "collapsed": false,
    "ExecuteTime": {
     "end_time": "2023-07-02T15:53:23.819991200Z",
     "start_time": "2023-07-02T15:49:36.561825200Z"
    }
   }
  },
  {
   "cell_type": "code",
   "execution_count": 58,
   "outputs": [
    {
     "name": "stdout",
     "output_type": "stream",
     "text": [
      "Mean Absolute Error: 614.175485598878\n"
     ]
    }
   ],
   "source": [
    "# Get Mean Absolute Error\n",
    "from sklearn.metrics import mean_absolute_error\n",
    "mae = mean_absolute_error(y_test, y_pred)\n",
    "print(f'Mean Absolute Error: {mae}')"
   ],
   "metadata": {
    "collapsed": false,
    "ExecuteTime": {
     "end_time": "2023-07-02T15:53:23.834889100Z",
     "start_time": "2023-07-02T15:53:23.821985800Z"
    }
   }
  },
  {
   "cell_type": "code",
   "execution_count": 59,
   "outputs": [
    {
     "data": {
      "text/plain": "      Actual Sales  Predicted Sales\n0             3000      1716.544922\n1             1000       927.151123\n2              600       556.910522\n3              300       556.910522\n4             2000      1194.109375\n...            ...              ...\n2994           600       556.910522\n2995           600       556.910522\n2996          1000       721.347107\n2997           300       556.910522\n2998          2000      1170.744873\n\n[2999 rows x 2 columns]",
      "text/html": "<div>\n<style scoped>\n    .dataframe tbody tr th:only-of-type {\n        vertical-align: middle;\n    }\n\n    .dataframe tbody tr th {\n        vertical-align: top;\n    }\n\n    .dataframe thead th {\n        text-align: right;\n    }\n</style>\n<table border=\"1\" class=\"dataframe\">\n  <thead>\n    <tr style=\"text-align: right;\">\n      <th></th>\n      <th>Actual Sales</th>\n      <th>Predicted Sales</th>\n    </tr>\n  </thead>\n  <tbody>\n    <tr>\n      <th>0</th>\n      <td>3000</td>\n      <td>1716.544922</td>\n    </tr>\n    <tr>\n      <th>1</th>\n      <td>1000</td>\n      <td>927.151123</td>\n    </tr>\n    <tr>\n      <th>2</th>\n      <td>600</td>\n      <td>556.910522</td>\n    </tr>\n    <tr>\n      <th>3</th>\n      <td>300</td>\n      <td>556.910522</td>\n    </tr>\n    <tr>\n      <th>4</th>\n      <td>2000</td>\n      <td>1194.109375</td>\n    </tr>\n    <tr>\n      <th>...</th>\n      <td>...</td>\n      <td>...</td>\n    </tr>\n    <tr>\n      <th>2994</th>\n      <td>600</td>\n      <td>556.910522</td>\n    </tr>\n    <tr>\n      <th>2995</th>\n      <td>600</td>\n      <td>556.910522</td>\n    </tr>\n    <tr>\n      <th>2996</th>\n      <td>1000</td>\n      <td>721.347107</td>\n    </tr>\n    <tr>\n      <th>2997</th>\n      <td>300</td>\n      <td>556.910522</td>\n    </tr>\n    <tr>\n      <th>2998</th>\n      <td>2000</td>\n      <td>1170.744873</td>\n    </tr>\n  </tbody>\n</table>\n<p>2999 rows × 2 columns</p>\n</div>"
     },
     "execution_count": 59,
     "metadata": {},
     "output_type": "execute_result"
    }
   ],
   "source": [
    "# Create a dataframe with the actual sales and the predicted sales\n",
    "df_results = pd.DataFrame({'Actual Sales': y_test, 'Predicted Sales': y_pred.flatten()})\n",
    "df_results"
   ],
   "metadata": {
    "collapsed": false,
    "ExecuteTime": {
     "end_time": "2023-07-02T15:53:23.859205300Z",
     "start_time": "2023-07-02T15:53:23.835886800Z"
    }
   }
  },
  {
   "cell_type": "code",
   "execution_count": 60,
   "outputs": [
    {
     "data": {
      "text/plain": "<Figure size 864x576 with 1 Axes>",
      "image/png": "[encoded data removed]"
     },
     "metadata": {
      "needs_background": "light"
     },
     "output_type": "display_data"
    }
   ],
   "source": [
    "# Create a scatter plot of the actual sales and the predicted sales. The axes limits should be 10000 and plot a line for the actual sales vs actual sales.\n",
    "plt.figure(figsize=(12, 8))\n",
    "plt.scatter(x=df_results['Actual Sales'], y=df_results['Predicted Sales'])\n",
    "plt.plot(df_results['Actual Sales'], df_results['Actual Sales'], color='red')\n",
    "plt.xlim(0, 10000)\n",
    "plt.ylim(0, 10000)\n",
    "plt.xlabel('Actual Sales')\n",
    "plt.ylabel('Predicted Sales')\n",
    "plt.title('Actual Sales vs Predicted Sales')\n",
    "plt.show()"
   ],
   "metadata": {
    "collapsed": false,
    "ExecuteTime": {
     "end_time": "2023-07-02T15:53:24.054681200Z",
     "start_time": "2023-07-02T15:53:23.859205300Z"
    }
   }
  },
  {
   "cell_type": "markdown",
   "source": [
    "## Analyzing Results"
   ],
   "metadata": {
    "collapsed": false
   }
  },
  {
   "cell_type": "code",
   "execution_count": 61,
   "outputs": [
    {
     "name": "stdout",
     "output_type": "stream",
     "text": [
      "Slope: 0.5243879538782208\n",
      "Intercept: 251.79299640041745\n",
      "R^2 Value: 0.9669505786017953\n"
     ]
    }
   ],
   "source": [
    "# find the slope of the line of best fit to the actual sales vs predicted sales\n",
    "from scipy.stats import linregress\n",
    "slope, intercept, r_value, p_value, std_err = linregress(df_results['Actual Sales'], df_results['Predicted Sales'])\n",
    "print(f'Slope: {slope}')\n",
    "print(f'Intercept: {intercept}')\n",
    "print(f'R^2 Value: {r_value**2}')"
   ],
   "metadata": {
    "collapsed": false,
    "ExecuteTime": {
     "end_time": "2023-07-02T15:53:24.084601200Z",
     "start_time": "2023-07-02T15:53:24.054681200Z"
    }
   }
  },
  {
   "cell_type": "markdown",
   "source": [],
   "metadata": {
    "collapsed": false
   }
  },
  {
   "cell_type": "markdown",
   "source": [
    "## Assessing Feature Importance"
   ],
   "metadata": {
    "collapsed": false
   }
  },
  {
   "cell_type": "code",
   "execution_count": 62,
   "outputs": [
    {
     "data": {
      "text/plain": "                   Feature  Importance\n0          numberOfSellers    0.009136\n1              isVariation    0.011411\n2                    price    1.657079\n3            numberOfItems    0.539096\n4             salesRounded    0.013848\n5  predictedSalesFromTitle    0.097165",
      "text/html": "<div>\n<style scoped>\n    .dataframe tbody tr th:only-of-type {\n        vertical-align: middle;\n    }\n\n    .dataframe tbody tr th {\n        vertical-align: top;\n    }\n\n    .dataframe thead th {\n        text-align: right;\n    }\n</style>\n<table border=\"1\" class=\"dataframe\">\n  <thead>\n    <tr style=\"text-align: right;\">\n      <th></th>\n      <th>Feature</th>\n      <th>Importance</th>\n    </tr>\n  </thead>\n  <tbody>\n    <tr>\n      <th>0</th>\n      <td>numberOfSellers</td>\n      <td>0.009136</td>\n    </tr>\n    <tr>\n      <th>1</th>\n      <td>isVariation</td>\n      <td>0.011411</td>\n    </tr>\n    <tr>\n      <th>2</th>\n      <td>price</td>\n      <td>1.657079</td>\n    </tr>\n    <tr>\n      <th>3</th>\n      <td>numberOfItems</td>\n      <td>0.539096</td>\n    </tr>\n    <tr>\n      <th>4</th>\n      <td>salesRounded</td>\n      <td>0.013848</td>\n    </tr>\n    <tr>\n      <th>5</th>\n      <td>predictedSalesFromTitle</td>\n      <td>0.097165</td>\n    </tr>\n  </tbody>\n</table>\n</div>"
     },
     "execution_count": 62,
     "metadata": {},
     "output_type": "execute_result"
    }
   ],
   "source": [
    "# Create a dataframe with the feature names and their importance\n",
    "df_importance = pd.DataFrame({'Feature': df_nn.drop(['sales'], axis=1).columns, 'Importance': abs(nn.layers[0].get_weights()[0].mean(axis=1))})\n",
    "df_importance"
   ],
   "metadata": {
    "collapsed": false,
    "ExecuteTime": {
     "end_time": "2023-07-02T15:53:24.087593900Z",
     "start_time": "2023-07-02T15:53:24.072632900Z"
    }
   }
  },
  {
   "cell_type": "code",
   "execution_count": null,
   "outputs": [],
   "source": [],
   "metadata": {
    "collapsed": false
   }
  }
 ],
 "metadata": {
  "kernelspec": {
   "display_name": "Python 3 (ipykernel)",
   "language": "python",
   "name": "python3"
  },
  "language_info": {
   "codemirror_mode": {
    "name": "ipython",
    "version": 3
   },
   "file_extension": ".py",
   "mimetype": "text/x-python",
   "name": "python",
   "nbconvert_exporter": "python",
   "pygments_lexer": "ipython3",
   "version": "3.10.9"
  }
 },
 "nbformat": 4,
 "nbformat_minor": 5
}
