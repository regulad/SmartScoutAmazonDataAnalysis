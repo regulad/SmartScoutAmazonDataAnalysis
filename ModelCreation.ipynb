{
 "cells": [
  {
   "cell_type": "markdown",
   "source": [
    "# Neural Network Creation"
   ],
   "metadata": {
    "collapsed": false
   }
  },
  {
   "cell_type": "markdown",
   "source": [
    "## Importing Dependencies and Data"
   ],
   "metadata": {
    "collapsed": false
   }
  },
  {
   "cell_type": "code",
   "execution_count": 194,
   "outputs": [],
   "source": [
    "import numpy as np\n",
    "import pandas as pd\n",
    "import matplotlib.pyplot as plt\n",
    "import seaborn as sns"
   ],
   "metadata": {
    "collapsed": false,
    "ExecuteTime": {
     "end_time": "2023-07-03T16:23:40.954955100Z",
     "start_time": "2023-07-03T16:23:40.712098700Z"
    }
   }
  },
  {
   "cell_type": "code",
   "execution_count": 195,
   "outputs": [],
   "source": [
    "# Get Path from local 'Data' Folder\n",
    "path = r\"D:\\1-Toys and Games.csv\"\n",
    "\n",
    "# Load Data.\n",
    "n_rows = 500\n",
    "column_subset = ['monthlyUnitsSold', 'imageUrl', 'title', 'numberOfSellers', 'isVariation', 'buyBoxPrice', 'numberOfItems']\n",
    "\n",
    "img_df = pd.read_csv(path, nrows=n_rows, usecols=['monthlyUnitsSold', 'imageUrl'])\n",
    "title_df = pd.read_csv(path, nrows=n_rows, usecols=['monthlyUnitsSold', 'title'])\n",
    "features_df = pd.read_csv(path, nrows=n_rows, usecols=['monthlyUnitsSold', 'numberOfSellers', 'isVariation', 'buyBoxPrice', 'numberOfItems'])"
   ],
   "metadata": {
    "collapsed": false,
    "ExecuteTime": {
     "end_time": "2023-07-03T16:23:41.189331100Z",
     "start_time": "2023-07-03T16:23:40.727084Z"
    }
   }
  },
  {
   "cell_type": "markdown",
   "source": [
    "## Data Cleaning"
   ],
   "metadata": {
    "collapsed": false
   }
  },
  {
   "cell_type": "code",
   "execution_count": 196,
   "outputs": [
    {
     "name": "stdout",
     "output_type": "stream",
     "text": [
      "Image DataFrame Size: (500, 2)\n",
      "Title DataFrame Size: (500, 2)\n",
      "Features DataFrame Size: (500, 5)\n"
     ]
    }
   ],
   "source": [
    "# Print DataFrame Sizes before Cleaning\n",
    "print(f'Image DataFrame Size: {img_df.shape}')\n",
    "print(f'Title DataFrame Size: {title_df.shape}')\n",
    "print(f'Features DataFrame Size: {features_df.shape}')"
   ],
   "metadata": {
    "collapsed": false,
    "ExecuteTime": {
     "end_time": "2023-07-03T16:23:41.205366200Z",
     "start_time": "2023-07-03T16:23:41.190328Z"
    }
   }
  },
  {
   "cell_type": "code",
   "execution_count": 197,
   "outputs": [],
   "source": [
    "# Drop NaNs\n",
    "img_df.dropna(inplace=True)\n",
    "title_df.dropna(inplace=True)\n",
    "features_df.dropna(inplace=True)"
   ],
   "metadata": {
    "collapsed": false,
    "ExecuteTime": {
     "end_time": "2023-07-03T16:23:41.249275500Z",
     "start_time": "2023-07-03T16:23:41.206360100Z"
    }
   }
  },
  {
   "cell_type": "code",
   "execution_count": 198,
   "outputs": [],
   "source": [
    "# Drop Duplicates\n",
    "img_df.drop_duplicates(inplace=True)\n",
    "title_df.drop_duplicates(inplace=True)"
   ],
   "metadata": {
    "collapsed": false,
    "ExecuteTime": {
     "end_time": "2023-07-03T16:23:41.295737300Z",
     "start_time": "2023-07-03T16:23:41.223319400Z"
    }
   }
  },
  {
   "cell_type": "code",
   "execution_count": 199,
   "outputs": [],
   "source": [
    "# Drop Outliers\n",
    "outlier_limit = 1000000\n",
    "img_df = img_df[img_df['monthlyUnitsSold'] < outlier_limit]\n",
    "title_df = title_df[title_df['monthlyUnitsSold'] < outlier_limit]\n",
    "features_df = features_df[features_df['monthlyUnitsSold'] < outlier_limit]"
   ],
   "metadata": {
    "collapsed": false,
    "ExecuteTime": {
     "end_time": "2023-07-03T16:23:41.299727200Z",
     "start_time": "2023-07-03T16:23:41.285764400Z"
    }
   }
  },
  {
   "cell_type": "code",
   "execution_count": 200,
   "outputs": [],
   "source": [
    "# Drop Zeros\n",
    "img_df = img_df[img_df['monthlyUnitsSold'] > 0]\n",
    "title_df = title_df[title_df['monthlyUnitsSold'] > 0]\n",
    "features_df = features_df[features_df['monthlyUnitsSold'] > 0]"
   ],
   "metadata": {
    "collapsed": false,
    "ExecuteTime": {
     "end_time": "2023-07-03T16:23:41.314718Z",
     "start_time": "2023-07-03T16:23:41.298729Z"
    }
   }
  },
  {
   "cell_type": "code",
   "execution_count": 201,
   "outputs": [],
   "source": [
    "# Rename Columns for Clarity\n",
    "img_df.rename(columns={'monthlyUnitsSold':'sales'}, inplace=True)\n",
    "title_df.rename(columns={'monthlyUnitsSold':'sales'}, inplace=True)\n",
    "features_df.rename(columns={'monthlyUnitsSold':'sales', 'buyBoxPrice':'price'}, inplace=True)"
   ],
   "metadata": {
    "collapsed": false,
    "ExecuteTime": {
     "end_time": "2023-07-03T16:23:41.352730300Z",
     "start_time": "2023-07-03T16:23:41.315716800Z"
    }
   }
  },
  {
   "cell_type": "code",
   "execution_count": 202,
   "outputs": [
    {
     "name": "stdout",
     "output_type": "stream",
     "text": [
      "Image DataFrame Size: (499, 2)\n",
      "Title DataFrame Size: (496, 2)\n",
      "Features DataFrame Size: (500, 5)\n"
     ]
    }
   ],
   "source": [
    "# Print DataFrame Sizes after Cleaning\n",
    "print(f'Image DataFrame Size: {img_df.shape}')\n",
    "print(f'Title DataFrame Size: {title_df.shape}')\n",
    "print(f'Features DataFrame Size: {features_df.shape}')"
   ],
   "metadata": {
    "collapsed": false,
    "ExecuteTime": {
     "end_time": "2023-07-03T16:23:41.361087400Z",
     "start_time": "2023-07-03T16:23:41.347630Z"
    }
   }
  },
  {
   "cell_type": "markdown",
   "source": [
    "## Data Preprocessing"
   ],
   "metadata": {
    "collapsed": false
   }
  },
  {
   "cell_type": "code",
   "execution_count": 203,
   "outputs": [],
   "source": [
    "# Convert isVariation from boolean to int\n",
    "features_df['isVariation'] = features_df['isVariation'].astype(int)"
   ],
   "metadata": {
    "collapsed": false,
    "ExecuteTime": {
     "end_time": "2023-07-03T16:23:41.406155400Z",
     "start_time": "2023-07-03T16:23:41.361087400Z"
    }
   }
  },
  {
   "cell_type": "code",
   "execution_count": 204,
   "outputs": [
    {
     "data": {
      "text/plain": "Pandas Apply:   0%|          | 0/499 [00:00<?, ?it/s]",
      "application/vnd.jupyter.widget-view+json": {
       "version_major": 2,
       "version_minor": 0,
       "model_id": "1f9a9b0158b64229af821682bba21f2d"
      }
     },
     "metadata": {},
     "output_type": "display_data"
    }
   ],
   "source": [
    "# Convert imageUrl column from links to image data (pixels) and track progress with swifter\n",
    "# imageUrl will be in this format: data:image/jpeg;base64/9j/4AAQSkZJRgABAQAAAQABAAD...\n",
    "import swifter\n",
    "import numpy as np\n",
    "import base64\n",
    "import io\n",
    "from PIL import Image\n",
    "\n",
    "def get_image_data(image_url: str):\n",
    "    # Get the image data from the image url\n",
    "    image_data = image_url.split(',')[1]\n",
    "    # Convert the image data from base64 to bytes\n",
    "    image_data = base64.b64decode(image_data)\n",
    "    # Convert the image data from bytes to an image\n",
    "    image_data = Image.open(io.BytesIO(image_data))\n",
    "    # Convert the image to RGB\n",
    "    image_data = image_data.convert('RGB')\n",
    "    # Convert the image to an array\n",
    "    image_data = np.array(image_data)\n",
    "    # Return the image data\n",
    "    return image_data\n",
    "\n",
    "\n",
    "# Apply the function to the imageUrl column\n",
    "img_df['imageData'] = img_df['imageUrl'].swifter.apply(get_image_data)"
   ],
   "metadata": {
    "collapsed": false,
    "ExecuteTime": {
     "end_time": "2023-07-03T16:23:44.021247500Z",
     "start_time": "2023-07-03T16:23:41.380225100Z"
    }
   }
  },
  {
   "cell_type": "code",
   "execution_count": 205,
   "outputs": [
    {
     "data": {
      "text/plain": "Pandas Apply:   0%|          | 0/499 [00:00<?, ?it/s]",
      "application/vnd.jupyter.widget-view+json": {
       "version_major": 2,
       "version_minor": 0,
       "model_id": "6ef09af4e4d74836ac367661fcfcfbd6"
      }
     },
     "metadata": {},
     "output_type": "display_data"
    }
   ],
   "source": [
    "# Resize all the images to the same target size (change the imageData column)\n",
    "from skimage.transform import resize\n",
    "\n",
    "target_size = 128\n",
    "img_df['imageData'] = img_df['imageData'].swifter.apply(resize, output_shape=(target_size, target_size, 3))"
   ],
   "metadata": {
    "collapsed": false,
    "ExecuteTime": {
     "end_time": "2023-07-03T16:23:56.538143700Z",
     "start_time": "2023-07-03T16:23:44.025237700Z"
    }
   }
  },
  {
   "cell_type": "markdown",
   "source": [
    "## Extracting Colors from Images"
   ],
   "metadata": {
    "collapsed": false
   }
  },
  {
   "cell_type": "raw",
   "source": [
    "# Extract the colors from the images\n",
    "# Get top 3 colors in rgb format using K means clustering. Store them in a tuple\n",
    "from sklearn.cluster import KMeans\n",
    "\n",
    "def get_top_colors(image_data, n_colors: int):\n",
    "    # Reshape the image data\n",
    "    image_data = image_data.reshape(-1, 3)\n",
    "    # Create a KMeans model\n",
    "    kmeans = KMeans(n_clusters=n_colors, random_state=42)\n",
    "    # Fit the model to the image data\n",
    "    kmeans.fit(image_data)\n",
    "    # Get the colors\n",
    "    colors = kmeans.cluster_centers_\n",
    "    # Return the colors\n",
    "    return colors\n",
    "\n",
    "n_colors = 3\n",
    "img_df['topColors'] = img_df['imageData'].swifter.apply(get_top_colors, n_colors=n_colors)\n",
    "\n",
    "# Split the top colors into 9 columns, color_1_r, color_1_g, color_1_b, color_2_r, color_2_g, color_2_b, color_3_r, color_3_g, color_3_b\n",
    "for i in range(n_colors):\n",
    "    features_df[f'color_{i+1}_r'] = img_df['topColors'].apply(lambda x: x[i][0])\n",
    "    features_df[f'color_{i+1}_g'] = img_df['topColors'].apply(lambda x: x[i][1])\n",
    "    features_df[f'color_{i+1}_b'] = img_df['topColors'].apply(lambda x: x[i][2])\n",
    "\n",
    "# Drop the top colors column\n",
    "img_df.drop(columns=['topColors'], inplace=True)"
   ],
   "metadata": {
    "collapsed": false
   }
  },
  {
   "cell_type": "markdown",
   "source": [
    "## Natural Language Processing - Title"
   ],
   "metadata": {
    "collapsed": false
   }
  },
  {
   "cell_type": "code",
   "execution_count": 206,
   "outputs": [
    {
     "name": "stderr",
     "output_type": "stream",
     "text": [
      "[nltk_data] Downloading package stopwords to\n",
      "[nltk_data]     C:\\Users\\shtey\\AppData\\Roaming\\nltk_data...\n",
      "[nltk_data]   Package stopwords is already up-to-date!\n",
      "[nltk_data] Downloading package wordnet to\n",
      "[nltk_data]     C:\\Users\\shtey\\AppData\\Roaming\\nltk_data...\n",
      "[nltk_data]   Package wordnet is already up-to-date!\n",
      "[nltk_data] Downloading package punkt to\n",
      "[nltk_data]     C:\\Users\\shtey\\AppData\\Roaming\\nltk_data...\n",
      "[nltk_data]   Package punkt is already up-to-date!\n"
     ]
    }
   ],
   "source": [
    "# Import the necessary libraries\n",
    "import nltk\n",
    "from nltk.corpus import stopwords\n",
    "from nltk.stem import WordNetLemmatizer\n",
    "from nltk.tokenize import word_tokenize\n",
    "import string\n",
    "\n",
    "# Download the necessary libraries\n",
    "nltk.download('stopwords')\n",
    "nltk.download('wordnet')\n",
    "nltk.download('punkt')\n",
    "\n",
    "# Create a list of stopwords\n",
    "stop_words = stopwords.words('english')\n",
    "# Create a lemmatizer object\n",
    "lemmatizer = WordNetLemmatizer()"
   ],
   "metadata": {
    "collapsed": false,
    "ExecuteTime": {
     "end_time": "2023-07-03T16:23:56.553109800Z",
     "start_time": "2023-07-03T16:23:56.541112300Z"
    }
   }
  },
  {
   "cell_type": "code",
   "execution_count": 207,
   "outputs": [
    {
     "data": {
      "text/plain": "Pandas Apply:   0%|          | 0/496 [00:00<?, ?it/s]",
      "application/vnd.jupyter.widget-view+json": {
       "version_major": 2,
       "version_minor": 0,
       "model_id": "d084f2589c4b4f3eb36b39c7cfeda633"
      }
     },
     "metadata": {},
     "output_type": "display_data"
    }
   ],
   "source": [
    "# Create a function to clean the text\n",
    "def clean_text(text: str):\n",
    "    # Convert the text to lowercase\n",
    "    text = text.lower()\n",
    "    # Tokenize the text\n",
    "    tokens = word_tokenize(text)\n",
    "    # Remove stopwords\n",
    "    tokens = [word for word in tokens if word not in stop_words]\n",
    "    # Lemmatize the text\n",
    "    tokens = [lemmatizer.lemmatize(word) for word in tokens]\n",
    "    # Join the tokens back together\n",
    "    text = ' '.join(tokens)\n",
    "    # Return the text\n",
    "    return text\n",
    "\n",
    "# Clean the title column and create a new column called clean_title\n",
    "title_df['clean_title'] = title_df['title'].swifter.apply(clean_text)"
   ],
   "metadata": {
    "collapsed": false,
    "ExecuteTime": {
     "end_time": "2023-07-03T16:23:56.743168600Z",
     "start_time": "2023-07-03T16:23:56.557098300Z"
    }
   }
  },
  {
   "cell_type": "code",
   "execution_count": 208,
   "outputs": [
    {
     "data": {
      "text/plain": "                                               title  sales  \\\n0  Animal Adventure | Sqoosh2Poof Giant, Cuddly, ...    124   \n1  DJI Mini 3 Pro (DJI RC) & Fly More Kit Plus – ...   3046   \n2  Classic Handheld Game Console, Wireless Classi...  15983   \n3  Step2 Rain Showers Splash Pond Water Table | K...  28285   \n4  Drone with 1080P Dual HD Camera - 2023 Upgradd...   5383   \n\n                                         clean_title  \n0  animal adventure | sqoosh2poof giant , cuddly ...  \n1  dji mini 3 pro ( dji rc ) & fly kit plus – lig...  \n2  classic handheld game console , wireless class...  \n3  step2 rain shower splash pond water table | ki...  \n4  drone 1080p dual hd camera - 2023 upgradded rc...  ",
      "text/html": "<div>\n<style scoped>\n    .dataframe tbody tr th:only-of-type {\n        vertical-align: middle;\n    }\n\n    .dataframe tbody tr th {\n        vertical-align: top;\n    }\n\n    .dataframe thead th {\n        text-align: right;\n    }\n</style>\n<table border=\"1\" class=\"dataframe\">\n  <thead>\n    <tr style=\"text-align: right;\">\n      <th></th>\n      <th>title</th>\n      <th>sales</th>\n      <th>clean_title</th>\n    </tr>\n  </thead>\n  <tbody>\n    <tr>\n      <th>0</th>\n      <td>Animal Adventure | Sqoosh2Poof Giant, Cuddly, ...</td>\n      <td>124</td>\n      <td>animal adventure | sqoosh2poof giant , cuddly ...</td>\n    </tr>\n    <tr>\n      <th>1</th>\n      <td>DJI Mini 3 Pro (DJI RC) &amp; Fly More Kit Plus – ...</td>\n      <td>3046</td>\n      <td>dji mini 3 pro ( dji rc ) &amp; fly kit plus – lig...</td>\n    </tr>\n    <tr>\n      <th>2</th>\n      <td>Classic Handheld Game Console, Wireless Classi...</td>\n      <td>15983</td>\n      <td>classic handheld game console , wireless class...</td>\n    </tr>\n    <tr>\n      <th>3</th>\n      <td>Step2 Rain Showers Splash Pond Water Table | K...</td>\n      <td>28285</td>\n      <td>step2 rain shower splash pond water table | ki...</td>\n    </tr>\n    <tr>\n      <th>4</th>\n      <td>Drone with 1080P Dual HD Camera - 2023 Upgradd...</td>\n      <td>5383</td>\n      <td>drone 1080p dual hd camera - 2023 upgradded rc...</td>\n    </tr>\n  </tbody>\n</table>\n</div>"
     },
     "execution_count": 208,
     "metadata": {},
     "output_type": "execute_result"
    }
   ],
   "source": [
    "title_df.head(5)"
   ],
   "metadata": {
    "collapsed": false,
    "ExecuteTime": {
     "end_time": "2023-07-03T16:23:56.758202Z",
     "start_time": "2023-07-03T16:23:56.743168600Z"
    }
   }
  },
  {
   "cell_type": "markdown",
   "source": [
    "## Creating a Natural Language Processing Model"
   ],
   "metadata": {
    "collapsed": false
   }
  },
  {
   "cell_type": "markdown",
   "source": [
    "We will use the bag of words model to create a model that predicts the sales based on the title of the product. The bag of words model is a simple model that counts the number of times a word appears in a document. We will use the CountVectorizer class from sklearn to create a bag of words model. We will then use the bag of words model to create different models, like a linear regression model, a random forest model, a neural network model, and a support vector machine model. We will then compare the models and choose the best one."
   ],
   "metadata": {
    "collapsed": false
   }
  },
  {
   "cell_type": "code",
   "execution_count": 209,
   "outputs": [],
   "source": [
    "# Import the necessary libraries\n",
    "from sklearn.feature_extraction.text import CountVectorizer\n",
    "from sklearn.model_selection import train_test_split\n",
    "from sklearn.linear_model import LinearRegression\n",
    "from sklearn.ensemble import RandomForestRegressor\n",
    "from sklearn.svm import SVR\n",
    "from sklearn.neural_network import MLPRegressor\n",
    "from sklearn.metrics import mean_squared_error\n",
    "from math import sqrt"
   ],
   "metadata": {
    "collapsed": false,
    "ExecuteTime": {
     "end_time": "2023-07-03T16:23:56.827017200Z",
     "start_time": "2023-07-03T16:23:56.761193800Z"
    }
   }
  },
  {
   "cell_type": "code",
   "execution_count": 210,
   "outputs": [],
   "source": [
    "# Create a bag of words model\n",
    "vectorizer = CountVectorizer()\n",
    "# Fit the model to the clean_title column\n",
    "vectorizer.fit(title_df['clean_title'])\n",
    "# Transform the clean_title column into a bag of words\n",
    "title_bow = vectorizer.transform(title_df['clean_title'])"
   ],
   "metadata": {
    "collapsed": false,
    "ExecuteTime": {
     "end_time": "2023-07-03T16:23:56.840981Z",
     "start_time": "2023-07-03T16:23:56.792110600Z"
    }
   }
  },
  {
   "cell_type": "code",
   "execution_count": 211,
   "outputs": [],
   "source": [
    "# Split the data into train and test sets\n",
    "X_train, X_test, y_train, y_test = train_test_split(title_bow, title_df['sales'], test_size=0.2, random_state=42)"
   ],
   "metadata": {
    "collapsed": false,
    "ExecuteTime": {
     "end_time": "2023-07-03T16:23:56.840981Z",
     "start_time": "2023-07-03T16:23:56.824025900Z"
    }
   }
  },
  {
   "cell_type": "markdown",
   "source": [
    "### Linear Regression Model"
   ],
   "metadata": {
    "collapsed": false
   }
  },
  {
   "cell_type": "code",
   "execution_count": 212,
   "outputs": [
    {
     "name": "stdout",
     "output_type": "stream",
     "text": [
      "Linear Regression RMSE: 6488.326336260259\n",
      "Linear Regression R2: 0.02459007870412111\n"
     ]
    },
    {
     "data": {
      "text/plain": "<Figure size 432x288 with 1 Axes>",
      "image/png": "[encoded data removed]"
     },
     "metadata": {},
     "output_type": "display_data"
    }
   ],
   "source": [
    "# Create a linear regression model\n",
    "lr_model = LinearRegression()\n",
    "# Fit the model to the training data\n",
    "lr_model.fit(X_train, y_train)\n",
    "# Make predictions on the test data\n",
    "lr_predictions = lr_model.predict(X_test)\n",
    "# Calculate the root mean squared error\n",
    "lr_rmse = sqrt(mean_squared_error(y_test, lr_predictions))\n",
    "print(f'Linear Regression RMSE: {lr_rmse}')\n",
    "# Calculate the R squared value\n",
    "lr_r2 = lr_model.score(X_test, y_test)\n",
    "print(f'Linear Regression R2: {lr_r2}')\n",
    "# Graph the predictions vs the actual values\n",
    "plt.scatter(y_test, lr_predictions)\n",
    "plt.xlabel('Actual Sales')\n",
    "plt.ylabel('Predicted Sales')\n",
    "plt.title('Linear Regression Predictions vs Actual Values')\n",
    "plt.show()"
   ],
   "metadata": {
    "collapsed": false,
    "ExecuteTime": {
     "end_time": "2023-07-03T16:23:57.005606600Z",
     "start_time": "2023-07-03T16:23:56.839983600Z"
    }
   }
  },
  {
   "cell_type": "markdown",
   "source": [
    "### Random Forest Model"
   ],
   "metadata": {
    "collapsed": false
   }
  },
  {
   "cell_type": "code",
   "execution_count": 213,
   "outputs": [
    {
     "name": "stdout",
     "output_type": "stream",
     "text": [
      "Random Forest RMSE: 5811.722224364196\n",
      "Random Forest R2: 0.21741504206272633\n"
     ]
    },
    {
     "data": {
      "text/plain": "<Figure size 432x288 with 1 Axes>",
      "image/png": "[encoded data removed]"
     },
     "metadata": {},
     "output_type": "display_data"
    }
   ],
   "source": [
    "# Create a random forest model\n",
    "rf_model = RandomForestRegressor(random_state=42)\n",
    "# Fit the model to the training data\n",
    "rf_model.fit(X_train, y_train)\n",
    "# Make predictions on the test data\n",
    "rf_predictions = rf_model.predict(X_test)\n",
    "# Calculate the root mean squared error\n",
    "rf_rmse = sqrt(mean_squared_error(y_test, rf_predictions))\n",
    "print(f'Random Forest RMSE: {rf_rmse}')\n",
    "# Calculate the R squared value\n",
    "rf_r2 = rf_model.score(X_test, y_test)\n",
    "print(f'Random Forest R2: {rf_r2}')\n",
    "# Graph the predictions vs the actual values\n",
    "plt.scatter(y_test, rf_predictions)\n",
    "plt.xlabel('Actual Sales')\n",
    "plt.ylabel('Predicted Sales')\n",
    "plt.title('Random Forest Predictions vs Actual Values')\n",
    "plt.show()"
   ],
   "metadata": {
    "collapsed": false,
    "ExecuteTime": {
     "end_time": "2023-07-03T16:24:43.835653800Z",
     "start_time": "2023-07-03T16:23:57.006603600Z"
    }
   }
  },
  {
   "cell_type": "markdown",
   "source": [
    "### Support Vector Machine Model"
   ],
   "metadata": {
    "collapsed": false
   }
  },
  {
   "cell_type": "code",
   "execution_count": 214,
   "outputs": [
    {
     "name": "stdout",
     "output_type": "stream",
     "text": [
      "Support Vector Machine RMSE: 6955.554583624676\n",
      "Support Vector Machine R2: -0.12094763456818414\n"
     ]
    },
    {
     "data": {
      "text/plain": "<Figure size 432x288 with 1 Axes>",
      "image/png": "[encoded data removed]"
     },
     "metadata": {},
     "output_type": "display_data"
    }
   ],
   "source": [
    "# Create a support vector machine model\n",
    "svm_model = SVR()\n",
    "# Fit the model to the training data\n",
    "svm_model.fit(X_train, y_train)\n",
    "# Make predictions on the test data\n",
    "svm_predictions = svm_model.predict(X_test)\n",
    "# Calculate the root mean squared error\n",
    "svm_rmse = sqrt(mean_squared_error(y_test, svm_predictions))\n",
    "print(f'Support Vector Machine RMSE: {svm_rmse}')\n",
    "# Calculate the R squared value\n",
    "svm_r2 = svm_model.score(X_test, y_test)\n",
    "print(f'Support Vector Machine R2: {svm_r2}')\n",
    "# Graph the predictions vs the actual values\n",
    "plt.scatter(y_test, svm_predictions)\n",
    "plt.xlabel('Actual Sales')\n",
    "plt.ylabel('Predicted Sales')\n",
    "plt.title('Support Vector Machine Predictions vs Actual Values')\n",
    "plt.show()"
   ],
   "metadata": {
    "collapsed": false,
    "ExecuteTime": {
     "end_time": "2023-07-03T16:24:44.010186200Z",
     "start_time": "2023-07-03T16:24:43.838646Z"
    }
   }
  },
  {
   "cell_type": "markdown",
   "source": [
    "### Neural Network Model"
   ],
   "metadata": {
    "collapsed": false
   }
  },
  {
   "cell_type": "code",
   "execution_count": 215,
   "outputs": [
    {
     "name": "stdout",
     "output_type": "stream",
     "text": [
      "Neural Network RMSE: 8251.917319323587\n",
      "Neural Network R2: -0.5777258253941064\n"
     ]
    },
    {
     "name": "stderr",
     "output_type": "stream",
     "text": [
      "C:\\Users\\shtey\\anaconda3\\lib\\site-packages\\sklearn\\neural_network\\_multilayer_perceptron.py:692: ConvergenceWarning: Stochastic Optimizer: Maximum iterations (200) reached and the optimization hasn't converged yet.\n",
      "  warnings.warn(\n"
     ]
    },
    {
     "data": {
      "text/plain": "<Figure size 432x288 with 1 Axes>",
      "image/png": "[encoded data removed]"
     },
     "metadata": {},
     "output_type": "display_data"
    }
   ],
   "source": [
    "# Create a neural network model\n",
    "nn_model = MLPRegressor(random_state=42)\n",
    "# Fit the model to the training data\n",
    "nn_model.fit(X_train, y_train)\n",
    "# Make predictions on the test data\n",
    "nn_predictions = nn_model.predict(X_test)\n",
    "# Calculate the root mean squared error\n",
    "nn_rmse = sqrt(mean_squared_error(y_test, nn_predictions))\n",
    "print(f'Neural Network RMSE: {nn_rmse}')\n",
    "# Calculate the R squared value\n",
    "nn_r2 = nn_model.score(X_test, y_test)\n",
    "print(f'Neural Network R2: {nn_r2}')\n",
    "# Graph the predictions vs the actual values\n",
    "plt.scatter(y_test, nn_predictions)\n",
    "plt.xlabel('Actual Sales')\n",
    "plt.ylabel('Predicted Sales')\n",
    "plt.title('Neural Network Predictions vs Actual Values')\n",
    "plt.show()"
   ],
   "metadata": {
    "collapsed": false,
    "ExecuteTime": {
     "end_time": "2023-07-03T16:24:48.493943600Z",
     "start_time": "2023-07-03T16:24:44.013180200Z"
    }
   }
  },
  {
   "cell_type": "markdown",
   "source": [
    "Based on the results of the models, the random forest model is the best model. It has the lowest root mean squared error and the highest R squared value. The random forest model is the best model because it is a more complex model than the linear regression model and the support vector machine model, but it is not as complex as the neural network model. The random forest model is also a good model because it is not prone to overfitting like the neural network model.\n",
    "Now, we will perform Grid Search to find the best parameters for the random forest model."
   ],
   "metadata": {
    "collapsed": false
   }
  },
  {
   "cell_type": "markdown",
   "source": [
    "### Grid Search"
   ],
   "metadata": {
    "collapsed": false
   }
  },
  {
   "cell_type": "code",
   "execution_count": 216,
   "outputs": [
    {
     "name": "stdout",
     "output_type": "stream",
     "text": [
      "Fitting 5 folds for each of 750 candidates, totalling 3750 fits\n",
      "{'max_depth': None, 'min_samples_leaf': 5, 'min_samples_split': 50, 'n_estimators': 50}\n"
     ]
    }
   ],
   "source": [
    "# Import the necessary libraries\n",
    "from sklearn.model_selection import GridSearchCV\n",
    "# Create a dictionary of parameters to test\n",
    "param_grid = {'n_estimators': [10, 50, 100, 200, 500],\n",
    "              'max_depth': [None, 10, 50, 100, 200, 500],\n",
    "              'min_samples_split': [2, 5, 10, 20, 50],\n",
    "              'min_samples_leaf': [1, 2, 5, 10, 20]}\n",
    "# Create a random forest model\n",
    "rf_model = RandomForestRegressor(random_state=42)\n",
    "# Create the GridSearchCV object\n",
    "grid_search = GridSearchCV(rf_model, param_grid, cv=5, scoring='neg_mean_squared_error', verbose=1, n_jobs=-1)\n",
    "# Fit the GridSearchCV object to the data\n",
    "grid_search.fit(X_train, y_train)\n",
    "# Print the best parameters\n",
    "print(grid_search.best_params_)"
   ],
   "metadata": {
    "collapsed": false,
    "ExecuteTime": {
     "end_time": "2023-07-03T16:32:27.803083200Z",
     "start_time": "2023-07-03T16:24:48.491924700Z"
    }
   }
  },
  {
   "cell_type": "code",
   "execution_count": 217,
   "outputs": [
    {
     "data": {
      "text/plain": "<Figure size 432x288 with 1 Axes>",
      "image/png": "[encoded data removed]"
     },
     "metadata": {},
     "output_type": "display_data"
    }
   ],
   "source": [
    "# Make predictions on the test data\n",
    "grid_predictions = grid_search.predict(X_test)\n",
    "# Graph Predictions\n",
    "plt.scatter(y_test, grid_predictions)\n",
    "plt.xlabel('Actual Sales')\n",
    "plt.ylabel('Predicted Sales')\n",
    "plt.title('Grid Search Predictions vs Actual Values')\n",
    "plt.show()"
   ],
   "metadata": {
    "collapsed": false,
    "ExecuteTime": {
     "end_time": "2023-07-03T16:32:27.933305200Z",
     "start_time": "2023-07-03T16:32:27.807455600Z"
    }
   }
  },
  {
   "cell_type": "markdown",
   "source": [
    "## Creating a KNN Model and a Convolutional Neural Network Model"
   ],
   "metadata": {
    "collapsed": false
   }
  },
  {
   "cell_type": "markdown",
   "source": [
    "We will now create a KNN model and a convolutional neural network model to predict the sales of a product based on its thumbnail image. We will compare the results of these models to the results of the models that used the product title to predict the sales of a product."
   ],
   "metadata": {
    "collapsed": false
   }
  },
  {
   "cell_type": "markdown",
   "source": [
    "## Convolutional Neural Network Model"
   ],
   "metadata": {
    "collapsed": false
   }
  },
  {
   "cell_type": "code",
   "execution_count": 222,
   "outputs": [
    {
     "data": {
      "text/plain": "                                            imageUrl  sales  \\\n0  data:image/jpeg;base64,/9j/4AAQSkZJRgABAQAAAQA...    124   \n1  data:image/jpeg;base64,/9j/4AAQSkZJRgABAQAAAQA...   3046   \n2  data:image/jpeg;base64,/9j/4AAQSkZJRgABAQAAAQA...  15983   \n3  data:image/jpeg;base64,/9j/4AAQSkZJRgABAQAAAQA...  28285   \n4  data:image/jpeg;base64,/9j/4AAQSkZJRgABAQAAAQA...   5383   \n\n                                           imageData  \n0  [[[0.9999999999999998, 0.9999999999999998, 0.9...  \n1  [[[0.9999999999999998, 0.9999999999999998, 0.9...  \n2  [[[0.9999999999999999, 0.9999999999999999, 0.9...  \n3  [[[0.9999999999999998, 0.9999999999999998, 0.9...  \n4  [[[0.9999999999999998, 0.9999999999999998, 0.9...  ",
      "text/html": "<div>\n<style scoped>\n    .dataframe tbody tr th:only-of-type {\n        vertical-align: middle;\n    }\n\n    .dataframe tbody tr th {\n        vertical-align: top;\n    }\n\n    .dataframe thead th {\n        text-align: right;\n    }\n</style>\n<table border=\"1\" class=\"dataframe\">\n  <thead>\n    <tr style=\"text-align: right;\">\n      <th></th>\n      <th>imageUrl</th>\n      <th>sales</th>\n      <th>imageData</th>\n    </tr>\n  </thead>\n  <tbody>\n    <tr>\n      <th>0</th>\n      <td>data:image/jpeg;base64,/9j/4AAQSkZJRgABAQAAAQA...</td>\n      <td>124</td>\n      <td>[[[0.9999999999999998, 0.9999999999999998, 0.9...</td>\n    </tr>\n    <tr>\n      <th>1</th>\n      <td>data:image/jpeg;base64,/9j/4AAQSkZJRgABAQAAAQA...</td>\n      <td>3046</td>\n      <td>[[[0.9999999999999998, 0.9999999999999998, 0.9...</td>\n    </tr>\n    <tr>\n      <th>2</th>\n      <td>data:image/jpeg;base64,/9j/4AAQSkZJRgABAQAAAQA...</td>\n      <td>15983</td>\n      <td>[[[0.9999999999999999, 0.9999999999999999, 0.9...</td>\n    </tr>\n    <tr>\n      <th>3</th>\n      <td>data:image/jpeg;base64,/9j/4AAQSkZJRgABAQAAAQA...</td>\n      <td>28285</td>\n      <td>[[[0.9999999999999998, 0.9999999999999998, 0.9...</td>\n    </tr>\n    <tr>\n      <th>4</th>\n      <td>data:image/jpeg;base64,/9j/4AAQSkZJRgABAQAAAQA...</td>\n      <td>5383</td>\n      <td>[[[0.9999999999999998, 0.9999999999999998, 0.9...</td>\n    </tr>\n  </tbody>\n</table>\n</div>"
     },
     "execution_count": 222,
     "metadata": {},
     "output_type": "execute_result"
    }
   ],
   "source": [
    "img_df.head()"
   ],
   "metadata": {
    "collapsed": false,
    "ExecuteTime": {
     "end_time": "2023-07-03T16:41:46.832429900Z",
     "start_time": "2023-07-03T16:41:36.817973900Z"
    }
   }
  },
  {
   "cell_type": "code",
   "execution_count": 223,
   "outputs": [],
   "source": [
    "# Import the necessary libraries\n",
    "from tensorflow.keras.models import Sequential\n",
    "from tensorflow.keras.layers import Dense, Conv2D, MaxPooling2D, Flatten, Dropout\n",
    "from tensorflow.keras.callbacks import EarlyStopping\n",
    "from tensorflow.keras.preprocessing.image import ImageDataGenerator"
   ],
   "metadata": {
    "collapsed": false,
    "ExecuteTime": {
     "end_time": "2023-07-03T16:41:46.848449800Z",
     "start_time": "2023-07-03T16:41:46.836420100Z"
    }
   }
  },
  {
   "cell_type": "markdown",
   "source": [
    "### Data Preprocessing"
   ],
   "metadata": {
    "collapsed": false
   }
  },
  {
   "cell_type": "code",
   "execution_count": 224,
   "outputs": [],
   "source": [
    "BATCH_SIZE = 32"
   ],
   "metadata": {
    "collapsed": false,
    "ExecuteTime": {
     "end_time": "2023-07-03T16:41:46.871387800Z",
     "start_time": "2023-07-03T16:41:46.850444900Z"
    }
   }
  },
  {
   "cell_type": "code",
   "execution_count": null,
   "outputs": [],
   "source": [
    "# Create an ImageDataGenerator object\n",
    "image_generator = ImageDataGenerator(rescale=1./255, validation_split=0.2)\n",
    "# Create a training ImageDataGenerator object\n",
    "train_data_gen = image_generator.flow_from_dataframe(dataframe=img_df, directory='images', x_col='imageData', y_col='sales', target_size=(target_size, target_size), class_mode='raw', batch_size=BATCH_SIZE, subset='training')\n",
    "# Create a validation ImageDataGenerator object\n",
    "val_data_gen = image_generator.flow_from_dataframe(dataframe=img_df, directory='images', x_col='imageData', y_col='sales', target_size=(target_size, target_size), class_mode='raw', batch_size=BATCH_SIZE, subset='validation')"
   ],
   "metadata": {
    "collapsed": false
   }
  },
  {
   "cell_type": "markdown",
   "source": [
    "### Creating the Model\n"
   ],
   "metadata": {
    "collapsed": false
   }
  },
  {
   "cell_type": "code",
   "execution_count": 225,
   "outputs": [],
   "source": [
    "# Create a convolutional neural network model\n",
    "cnn = Sequential()\n",
    "# Add a convolutional layer\n",
    "cnn.add(Conv2D(32, (3, 3), activation='relu', input_shape=(target_size, target_size, 3)))\n",
    "# Add a pooling layer\n",
    "cnn.add(MaxPooling2D((2, 2)))\n",
    "# Add another convolutional layer\n",
    "cnn.add(Conv2D(64, (3, 3), activation='relu'))\n",
    "# Add another pooling layer\n",
    "cnn.add(MaxPooling2D((2, 2)))\n",
    "# Add another convolutional layer\n",
    "cnn.add(Conv2D(128, (3, 3), activation='relu'))\n",
    "# Add another pooling layer\n",
    "cnn.add(MaxPooling2D((2, 2)))\n",
    "# Add a flattening layer\n",
    "cnn.add(Flatten())\n",
    "# Add a dropout layer\n",
    "cnn.add(Dropout(0.5))\n",
    "# Add a dense layer\n",
    "cnn.add(Dense(512, activation='relu'))\n",
    "# Add a dropout layer\n",
    "cnn.add(Dropout(0.5))\n",
    "# Add an output layer\n",
    "cnn.add(Dense(1))\n",
    "# Compile the model\n",
    "cnn.compile(optimizer='adam', loss='mse', metrics=['mse'])"
   ],
   "metadata": {
    "collapsed": false,
    "ExecuteTime": {
     "end_time": "2023-07-03T16:47:30.238661700Z",
     "start_time": "2023-07-03T16:47:28.280965Z"
    }
   }
  },
  {
   "cell_type": "markdown",
   "source": [
    "### Training and Optimization"
   ],
   "metadata": {
    "collapsed": false
   }
  },
  {
   "cell_type": "code",
   "execution_count": null,
   "outputs": [],
   "source": [
    "# Create an EarlyStopping object\n",
    "early_stop = EarlyStopping(monitor='val_loss', patience=3)\n",
    "# Fit the model using the ImageDataGenerator objects\n",
    "cnn.fit(train_data_gen, validation_data=val_data_gen, epochs=20, callbacks=[early_stop])"
   ],
   "metadata": {
    "collapsed": false,
    "is_executing": true
   }
  },
  {
   "cell_type": "markdown",
   "source": [],
   "metadata": {
    "collapsed": false
   }
  }
 ],
 "metadata": {
  "kernelspec": {
   "display_name": "Python 3",
   "language": "python",
   "name": "python3"
  },
  "language_info": {
   "codemirror_mode": {
    "name": "ipython",
    "version": 2
   },
   "file_extension": ".py",
   "mimetype": "text/x-python",
   "name": "python",
   "nbconvert_exporter": "python",
   "pygments_lexer": "ipython2",
   "version": "2.7.6"
  }
 },
 "nbformat": 4,
 "nbformat_minor": 0
}
